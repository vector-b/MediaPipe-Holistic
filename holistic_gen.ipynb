{
 "cells": [
  {
   "cell_type": "code",
   "execution_count": 1,
   "metadata": {},
   "outputs": [],
   "source": [
    "import cv2\n",
    "import mediapipe as mp\n",
    "import time\n",
    "import pandas as pd\n",
    "import numpy as np"
   ]
  },
  {
   "cell_type": "code",
   "execution_count": 2,
   "metadata": {},
   "outputs": [],
   "source": [
    "def landmmark_work(results, mpPose, mpDraw,mpHol, frame):\n",
    "    if (results.pose_landmarks):\n",
    "        mpDraw.draw_landmarks(frame, results.face_landmarks, mpHol.FACEMESH_TESSELATION, \n",
    "                                 mpDraw.DrawingSpec(color=(80,110,10), thickness=1, circle_radius=1),\n",
    "                                 mpDraw.DrawingSpec(color=(80,256,121), thickness=1, circle_radius=1)\n",
    "                                 )\n",
    "        \n",
    "        # 2. Right hand\n",
    "        mpDraw.draw_landmarks(frame, results.right_hand_landmarks, mpHol.HAND_CONNECTIONS, \n",
    "                                 mpDraw.DrawingSpec(color=(80,22,10), thickness=2, circle_radius=4),\n",
    "                                 mpDraw.DrawingSpec(color=(80,44,121), thickness=2, circle_radius=2)\n",
    "                                 )\n",
    "\n",
    "        # 3. Left Hand\n",
    "        mpDraw.draw_landmarks(frame, results.left_hand_landmarks, mpHol.HAND_CONNECTIONS, \n",
    "                                 mpDraw.DrawingSpec(color=(121,22,76), thickness=2, circle_radius=4),\n",
    "                                 mpDraw.DrawingSpec(color=(121,44,250), thickness=2, circle_radius=2)\n",
    "                                 )\n",
    "\n",
    "        # 4. Pose Detections\n",
    "        mpDraw.draw_landmarks(frame, results.pose_landmarks, mpHol.POSE_CONNECTIONS, \n",
    "                                 mpDraw.DrawingSpec(color=(245,117,66), thickness=2, circle_radius=4),\n",
    "                                 mpDraw.DrawingSpec(color=(245,66,230), thickness=2, circle_radius=2)\n",
    "                                 )\n",
    "\n",
    "def request_capture(type=0, path=None):\n",
    "\n",
    "    if(type):\n",
    "        capture = cv2.VideoCapture(path)\n",
    "    else:\n",
    "        capture = cv2.VideoCapture(0)\n",
    "    return capture"
   ]
  },
  {
   "cell_type": "code",
   "execution_count": 3,
   "metadata": {},
   "outputs": [],
   "source": [
    "mpPose = mp.solutions.pose\n",
    "mpDraw = mp.solutions.drawing_utils\n",
    "mp_holistic = mp.solutions.holistic"
   ]
  },
  {
   "cell_type": "code",
   "execution_count": 4,
   "metadata": {},
   "outputs": [],
   "source": [
    "\n",
    "\n",
    "holistic = mp_holistic.Holistic(min_detection_confidence=0.5, min_tracking_confidence=0.5)\n",
    "    \n",
    "#0 for webcam\n",
    "#1 for default video\n",
    "path_to_file = 'gestures/1.mp4'\n",
    "capture = request_capture(1, path_to_file)\n",
    "pTime = 0\n",
    "\n",
    "while(1):\n",
    "    ret , frame = capture.read()\n",
    "    try:\n",
    "        #mpPose processa cada frame no formato RGB\n",
    "        frameRGB = cv2.cvtColor(frame,cv2.COLOR_RGB2BGR)\n",
    "        results = holistic.process(frameRGB)\n",
    "\n",
    "        #R_landmark = results.pose_landmarks\n",
    "\n",
    "        cTime = time.time()\n",
    "        \n",
    "        landmmark_work(results, mpPose, mpDraw, mp_holistic, frame)\n",
    "        \n",
    "        fps = 1/(cTime - pTime)\n",
    "        pTime = cTime\n",
    "\n",
    "        cv2.putText(frame, str(int(fps)), (60,60), cv2.FONT_HERSHEY_PLAIN, 3, (255,100,120),3)\n",
    "        cv2.imshow(\"Video\", frame)\n",
    "    except:\n",
    "        break\n",
    "\n",
    "    k = cv2.waitKey(5) & 0xff\n",
    "    if k == 27:\n",
    "        break\n",
    "\n",
    "capture.release()\n",
    "cv2.destroyAllWindows()"
   ]
  },
  {
   "cell_type": "markdown",
   "metadata": {},
   "source": [
    "Export Landmarks"
   ]
  },
  {
   "cell_type": "code",
   "execution_count": 5,
   "metadata": {},
   "outputs": [],
   "source": [
    "import csv\n",
    "import os\n",
    "import numpy as np"
   ]
  },
  {
   "cell_type": "code",
   "execution_count": 6,
   "metadata": {},
   "outputs": [
    {
     "data": {
      "text/plain": [
       "501"
      ]
     },
     "execution_count": 6,
     "metadata": {},
     "output_type": "execute_result"
    }
   ],
   "source": [
    "num_coords = len(results.pose_landmarks.landmark) + len(results.face_landmarks.landmark)\n",
    "num_coords"
   ]
  },
  {
   "cell_type": "code",
   "execution_count": 7,
   "metadata": {},
   "outputs": [],
   "source": [
    "colunas = ['x', 'y', 'z', 'v']"
   ]
  },
  {
   "cell_type": "code",
   "execution_count": 8,
   "metadata": {},
   "outputs": [
    {
     "data": {
      "text/plain": [
       "'df = pd.DataFrame()\\nfor i in range(1,num_coords):\\n    data = {\"x\": results.pose_landmarks.landmark[i].x, \"y\":results.pose_landmarks.landmark[i].y, \"z\":results.pose_landmarks.landmark[i].z, \"v\":results.pose_landmarks.landmark[i].visibility}\\n    df = df.append(data, ignore_index=True)'"
      ]
     },
     "execution_count": 8,
     "metadata": {},
     "output_type": "execute_result"
    }
   ],
   "source": [
    "'''df = pd.DataFrame()\n",
    "for i in range(1,num_coords):\n",
    "    data = {\"x\": results.pose_landmarks.landmark[i].x, \"y\":results.pose_landmarks.landmark[i].y, \"z\":results.pose_landmarks.landmark[i].z, \"v\":results.pose_landmarks.landmark[i].visibility}\n",
    "    df = df.append(data, ignore_index=True)'''"
   ]
  },
  {
   "cell_type": "code",
   "execution_count": 9,
   "metadata": {},
   "outputs": [],
   "source": [
    "filename = 'coord.csv'"
   ]
  },
  {
   "cell_type": "code",
   "execution_count": 11,
   "metadata": {},
   "outputs": [],
   "source": [
    "landmarks_class = ['class']\n",
    "for i in range (1, num_coords+1):\n",
    "    landmarks_class += ['x{}'.format(i), 'y{}'.format(i) , 'z{}'.format(i), 'v{}'.format(i)]"
   ]
  },
  {
   "cell_type": "code",
   "execution_count": 12,
   "metadata": {},
   "outputs": [],
   "source": [
    "with open(filename, mode='w', newline='') as f:\n",
    "    csv_writer = csv.writer(f, delimiter=',', quotechar='\"', quoting=csv.QUOTE_MINIMAL)\n",
    "    csv_writer.writerow(landmarks_class)"
   ]
  },
  {
   "cell_type": "code",
   "execution_count": 37,
   "metadata": {},
   "outputs": [],
   "source": [
    "class_name = \"airsquat\""
   ]
  },
  {
   "cell_type": "code",
   "execution_count": 20,
   "metadata": {},
   "outputs": [],
   "source": [
    "path = './gestures'\n",
    "\n",
    "    \n",
    "dir = path\n",
    "sub_dir = [name for name in os.listdir(dir) if os.path.isdir(os.path.join(dir, name))]"
   ]
  },
  {
   "cell_type": "code",
   "execution_count": 21,
   "metadata": {},
   "outputs": [
    {
     "data": {
      "text/plain": [
       "['physical', 'testing']"
      ]
     },
     "execution_count": 21,
     "metadata": {},
     "output_type": "execute_result"
    }
   ],
   "source": [
    "sub_dir"
   ]
  },
  {
   "cell_type": "code",
   "execution_count": 23,
   "metadata": {},
   "outputs": [],
   "source": [
    "for i in sub_dir:\n",
    "        class_name = i\n",
    "        path_to_file = dir+'/'+i"
   ]
  },
  {
   "cell_type": "code",
   "execution_count": 24,
   "metadata": {},
   "outputs": [
    {
     "data": {
      "text/plain": [
       "'./gestures/testing'"
      ]
     },
     "execution_count": 24,
     "metadata": {},
     "output_type": "execute_result"
    }
   ],
   "source": [
    "path_to_file"
   ]
  },
  {
   "cell_type": "code",
   "execution_count": 40,
   "metadata": {},
   "outputs": [],
   "source": [
    "holistic = mp_holistic.Holistic(min_detection_confidence=0.5, min_tracking_confidence=0.5)\n",
    "    \n",
    "#0 for webcam\n",
    "#1 for default video\n",
    "path_to_file = 'gestures/physical/airsquat.mp4'\n",
    "capture = request_capture(1, path_to_file)\n",
    "pTime = 0\n",
    "while(1):\n",
    "    ret , frame = capture.read()\n",
    "\n",
    "    #mpPose processa cada frame no formato RGB\n",
    "\n",
    "    try:\n",
    "        image = cv2.cvtColor(frame, cv2.COLOR_BGR2RGB)\n",
    "        image.flags.writeable = False\n",
    "\n",
    "\n",
    "        results = holistic.process(image)\n",
    "\n",
    "\n",
    "        image.flags.writeable = True   \n",
    "        image = cv2.cvtColor(image, cv2.COLOR_RGB2BGR)\n",
    "\n",
    "        #R_landmark = results.pose_landmarks\n",
    "\n",
    "        cTime = time.time()\n",
    "    \n",
    "        landmmark_work(results, mpPose, mpDraw, mp_holistic, frame)\n",
    "    \n",
    "        fps = 1/(cTime - pTime)\n",
    "        pTime = cTime\n",
    "    \n",
    "        cv2.putText(frame, str(int(fps)), (60,60), cv2.FONT_HERSHEY_PLAIN, 3, (255,100,120),3)\n",
    "        cv2.imshow(\"Video\", frame)\n",
    "\n",
    "\n",
    "        try:\n",
    "            # Extract Pose landmarks\n",
    "            pose = results.pose_landmarks.landmark\n",
    "            pose_row = list(np.array([[landmark.x, landmark.y, landmark.z, landmark.visibility] for landmark in pose]).flatten())\n",
    "\n",
    "            if(results.face_landmarks):\n",
    "              face = results.face_landmarks.landmark\n",
    "              face_row = list(np.array([[landmark.x, landmark.y, landmark.z, landmark.visibility] for landmark in face]).flatten())\n",
    "            else:\n",
    "              face_row = list(np.zeros(468*4).flatten())\n",
    "        \n",
    "            # Concate rows\n",
    "            row = pose_row+face_row\n",
    "        \n",
    "            # Append class name \n",
    "            row.insert(0, class_name)\n",
    "        \n",
    "            # Export to CSV\n",
    "            with open(filename, mode='a', newline='') as f:\n",
    "                csv_writer = csv.writer(f, delimiter=',', quotechar='\"', quoting=csv.QUOTE_MINIMAL)\n",
    "                csv_writer.writerow(row) \n",
    "        \n",
    "        except:\n",
    "            pass\n",
    "    except:\n",
    "        pass\n",
    "\n",
    "\n",
    "    k = cv2.waitKey(5) & 0xff\n",
    "    if k == 27:\n",
    "        break\n",
    "\n",
    "capture.release()\n",
    "cv2.destroyAllWindows()"
   ]
  },
  {
   "cell_type": "markdown",
   "metadata": {},
   "source": [
    "Model"
   ]
  },
  {
   "cell_type": "code",
   "execution_count": 42,
   "metadata": {},
   "outputs": [],
   "source": [
    "data = pd.read_csv(filename)"
   ]
  },
  {
   "cell_type": "code",
   "execution_count": 43,
   "metadata": {},
   "outputs": [
    {
     "data": {
      "text/html": [
       "<div>\n",
       "<style scoped>\n",
       "    .dataframe tbody tr th:only-of-type {\n",
       "        vertical-align: middle;\n",
       "    }\n",
       "\n",
       "    .dataframe tbody tr th {\n",
       "        vertical-align: top;\n",
       "    }\n",
       "\n",
       "    .dataframe thead th {\n",
       "        text-align: right;\n",
       "    }\n",
       "</style>\n",
       "<table border=\"1\" class=\"dataframe\">\n",
       "  <thead>\n",
       "    <tr style=\"text-align: right;\">\n",
       "      <th></th>\n",
       "      <th>class</th>\n",
       "      <th>x1</th>\n",
       "      <th>y1</th>\n",
       "      <th>z1</th>\n",
       "      <th>v1</th>\n",
       "      <th>x2</th>\n",
       "      <th>y2</th>\n",
       "      <th>z2</th>\n",
       "      <th>v2</th>\n",
       "      <th>x3</th>\n",
       "      <th>...</th>\n",
       "      <th>z499</th>\n",
       "      <th>v499</th>\n",
       "      <th>x500</th>\n",
       "      <th>y500</th>\n",
       "      <th>z500</th>\n",
       "      <th>v500</th>\n",
       "      <th>x501</th>\n",
       "      <th>y501</th>\n",
       "      <th>z501</th>\n",
       "      <th>v501</th>\n",
       "    </tr>\n",
       "  </thead>\n",
       "  <tbody>\n",
       "    <tr>\n",
       "      <th>0</th>\n",
       "      <td>fighting</td>\n",
       "      <td>0.317064</td>\n",
       "      <td>0.297323</td>\n",
       "      <td>-0.198524</td>\n",
       "      <td>0.997053</td>\n",
       "      <td>0.315736</td>\n",
       "      <td>0.266954</td>\n",
       "      <td>-0.166135</td>\n",
       "      <td>0.996997</td>\n",
       "      <td>0.316682</td>\n",
       "      <td>...</td>\n",
       "      <td>0.001840</td>\n",
       "      <td>0.0</td>\n",
       "      <td>0.320197</td>\n",
       "      <td>0.274789</td>\n",
       "      <td>0.017987</td>\n",
       "      <td>0.0</td>\n",
       "      <td>0.320573</td>\n",
       "      <td>0.271809</td>\n",
       "      <td>0.019195</td>\n",
       "      <td>0.0</td>\n",
       "    </tr>\n",
       "    <tr>\n",
       "      <th>1</th>\n",
       "      <td>fighting</td>\n",
       "      <td>0.314465</td>\n",
       "      <td>0.297350</td>\n",
       "      <td>-0.259700</td>\n",
       "      <td>0.997178</td>\n",
       "      <td>0.312838</td>\n",
       "      <td>0.267185</td>\n",
       "      <td>-0.229077</td>\n",
       "      <td>0.997111</td>\n",
       "      <td>0.314278</td>\n",
       "      <td>...</td>\n",
       "      <td>0.000467</td>\n",
       "      <td>0.0</td>\n",
       "      <td>0.317291</td>\n",
       "      <td>0.276397</td>\n",
       "      <td>0.015993</td>\n",
       "      <td>0.0</td>\n",
       "      <td>0.317641</td>\n",
       "      <td>0.273520</td>\n",
       "      <td>0.017142</td>\n",
       "      <td>0.0</td>\n",
       "    </tr>\n",
       "    <tr>\n",
       "      <th>2</th>\n",
       "      <td>fighting</td>\n",
       "      <td>0.370492</td>\n",
       "      <td>0.324895</td>\n",
       "      <td>-0.288756</td>\n",
       "      <td>0.990647</td>\n",
       "      <td>0.371475</td>\n",
       "      <td>0.292176</td>\n",
       "      <td>-0.254000</td>\n",
       "      <td>0.990152</td>\n",
       "      <td>0.373409</td>\n",
       "      <td>...</td>\n",
       "      <td>0.000990</td>\n",
       "      <td>0.0</td>\n",
       "      <td>0.375294</td>\n",
       "      <td>0.298615</td>\n",
       "      <td>0.016953</td>\n",
       "      <td>0.0</td>\n",
       "      <td>0.375780</td>\n",
       "      <td>0.295943</td>\n",
       "      <td>0.018104</td>\n",
       "      <td>0.0</td>\n",
       "    </tr>\n",
       "    <tr>\n",
       "      <th>3</th>\n",
       "      <td>fighting</td>\n",
       "      <td>0.343145</td>\n",
       "      <td>0.327347</td>\n",
       "      <td>-0.119479</td>\n",
       "      <td>0.998767</td>\n",
       "      <td>0.340826</td>\n",
       "      <td>0.297875</td>\n",
       "      <td>-0.095216</td>\n",
       "      <td>0.998881</td>\n",
       "      <td>0.341833</td>\n",
       "      <td>...</td>\n",
       "      <td>-0.000186</td>\n",
       "      <td>0.0</td>\n",
       "      <td>0.318080</td>\n",
       "      <td>0.324639</td>\n",
       "      <td>-0.000060</td>\n",
       "      <td>0.0</td>\n",
       "      <td>0.316504</td>\n",
       "      <td>0.328040</td>\n",
       "      <td>-0.000128</td>\n",
       "      <td>0.0</td>\n",
       "    </tr>\n",
       "    <tr>\n",
       "      <th>4</th>\n",
       "      <td>fighting</td>\n",
       "      <td>0.349382</td>\n",
       "      <td>0.307495</td>\n",
       "      <td>-0.224579</td>\n",
       "      <td>0.997990</td>\n",
       "      <td>0.347115</td>\n",
       "      <td>0.274173</td>\n",
       "      <td>-0.191923</td>\n",
       "      <td>0.997874</td>\n",
       "      <td>0.347782</td>\n",
       "      <td>...</td>\n",
       "      <td>0.001140</td>\n",
       "      <td>0.0</td>\n",
       "      <td>0.346726</td>\n",
       "      <td>0.284535</td>\n",
       "      <td>0.017149</td>\n",
       "      <td>0.0</td>\n",
       "      <td>0.347021</td>\n",
       "      <td>0.281538</td>\n",
       "      <td>0.018390</td>\n",
       "      <td>0.0</td>\n",
       "    </tr>\n",
       "    <tr>\n",
       "      <th>...</th>\n",
       "      <td>...</td>\n",
       "      <td>...</td>\n",
       "      <td>...</td>\n",
       "      <td>...</td>\n",
       "      <td>...</td>\n",
       "      <td>...</td>\n",
       "      <td>...</td>\n",
       "      <td>...</td>\n",
       "      <td>...</td>\n",
       "      <td>...</td>\n",
       "      <td>...</td>\n",
       "      <td>...</td>\n",
       "      <td>...</td>\n",
       "      <td>...</td>\n",
       "      <td>...</td>\n",
       "      <td>...</td>\n",
       "      <td>...</td>\n",
       "      <td>...</td>\n",
       "      <td>...</td>\n",
       "      <td>...</td>\n",
       "      <td>...</td>\n",
       "    </tr>\n",
       "    <tr>\n",
       "      <th>2741</th>\n",
       "      <td>airsquat</td>\n",
       "      <td>0.680632</td>\n",
       "      <td>0.402722</td>\n",
       "      <td>-0.179848</td>\n",
       "      <td>0.999963</td>\n",
       "      <td>0.686719</td>\n",
       "      <td>0.385743</td>\n",
       "      <td>-0.157169</td>\n",
       "      <td>0.999964</td>\n",
       "      <td>0.690781</td>\n",
       "      <td>...</td>\n",
       "      <td>-0.000568</td>\n",
       "      <td>0.0</td>\n",
       "      <td>0.692350</td>\n",
       "      <td>0.380450</td>\n",
       "      <td>0.003409</td>\n",
       "      <td>0.0</td>\n",
       "      <td>0.693318</td>\n",
       "      <td>0.378014</td>\n",
       "      <td>0.003532</td>\n",
       "      <td>0.0</td>\n",
       "    </tr>\n",
       "    <tr>\n",
       "      <th>2742</th>\n",
       "      <td>airsquat</td>\n",
       "      <td>0.680397</td>\n",
       "      <td>0.387492</td>\n",
       "      <td>-0.184402</td>\n",
       "      <td>0.999966</td>\n",
       "      <td>0.686644</td>\n",
       "      <td>0.369842</td>\n",
       "      <td>-0.162563</td>\n",
       "      <td>0.999967</td>\n",
       "      <td>0.690736</td>\n",
       "      <td>...</td>\n",
       "      <td>-0.000680</td>\n",
       "      <td>0.0</td>\n",
       "      <td>0.692603</td>\n",
       "      <td>0.363168</td>\n",
       "      <td>0.003342</td>\n",
       "      <td>0.0</td>\n",
       "      <td>0.693555</td>\n",
       "      <td>0.360508</td>\n",
       "      <td>0.003481</td>\n",
       "      <td>0.0</td>\n",
       "    </tr>\n",
       "    <tr>\n",
       "      <th>2743</th>\n",
       "      <td>airsquat</td>\n",
       "      <td>0.680354</td>\n",
       "      <td>0.368732</td>\n",
       "      <td>-0.194770</td>\n",
       "      <td>0.999969</td>\n",
       "      <td>0.686593</td>\n",
       "      <td>0.351571</td>\n",
       "      <td>-0.172129</td>\n",
       "      <td>0.999970</td>\n",
       "      <td>0.690677</td>\n",
       "      <td>...</td>\n",
       "      <td>-0.000434</td>\n",
       "      <td>0.0</td>\n",
       "      <td>0.692380</td>\n",
       "      <td>0.344320</td>\n",
       "      <td>0.003549</td>\n",
       "      <td>0.0</td>\n",
       "      <td>0.693324</td>\n",
       "      <td>0.341614</td>\n",
       "      <td>0.003698</td>\n",
       "      <td>0.0</td>\n",
       "    </tr>\n",
       "    <tr>\n",
       "      <th>2744</th>\n",
       "      <td>airsquat</td>\n",
       "      <td>0.680336</td>\n",
       "      <td>0.349574</td>\n",
       "      <td>-0.194855</td>\n",
       "      <td>0.999972</td>\n",
       "      <td>0.686582</td>\n",
       "      <td>0.332461</td>\n",
       "      <td>-0.171762</td>\n",
       "      <td>0.999973</td>\n",
       "      <td>0.690663</td>\n",
       "      <td>...</td>\n",
       "      <td>-0.000496</td>\n",
       "      <td>0.0</td>\n",
       "      <td>0.692341</td>\n",
       "      <td>0.325188</td>\n",
       "      <td>0.003433</td>\n",
       "      <td>0.0</td>\n",
       "      <td>0.693321</td>\n",
       "      <td>0.322493</td>\n",
       "      <td>0.003564</td>\n",
       "      <td>0.0</td>\n",
       "    </tr>\n",
       "    <tr>\n",
       "      <th>2745</th>\n",
       "      <td>airsquat</td>\n",
       "      <td>0.679985</td>\n",
       "      <td>0.329644</td>\n",
       "      <td>-0.226645</td>\n",
       "      <td>0.999974</td>\n",
       "      <td>0.686389</td>\n",
       "      <td>0.312164</td>\n",
       "      <td>-0.203269</td>\n",
       "      <td>0.999975</td>\n",
       "      <td>0.690502</td>\n",
       "      <td>...</td>\n",
       "      <td>0.000000</td>\n",
       "      <td>0.0</td>\n",
       "      <td>0.000000</td>\n",
       "      <td>0.000000</td>\n",
       "      <td>0.000000</td>\n",
       "      <td>0.0</td>\n",
       "      <td>0.000000</td>\n",
       "      <td>0.000000</td>\n",
       "      <td>0.000000</td>\n",
       "      <td>0.0</td>\n",
       "    </tr>\n",
       "  </tbody>\n",
       "</table>\n",
       "<p>2746 rows × 2005 columns</p>\n",
       "</div>"
      ],
      "text/plain": [
       "         class        x1        y1        z1        v1        x2        y2  \\\n",
       "0     fighting  0.317064  0.297323 -0.198524  0.997053  0.315736  0.266954   \n",
       "1     fighting  0.314465  0.297350 -0.259700  0.997178  0.312838  0.267185   \n",
       "2     fighting  0.370492  0.324895 -0.288756  0.990647  0.371475  0.292176   \n",
       "3     fighting  0.343145  0.327347 -0.119479  0.998767  0.340826  0.297875   \n",
       "4     fighting  0.349382  0.307495 -0.224579  0.997990  0.347115  0.274173   \n",
       "...        ...       ...       ...       ...       ...       ...       ...   \n",
       "2741  airsquat  0.680632  0.402722 -0.179848  0.999963  0.686719  0.385743   \n",
       "2742  airsquat  0.680397  0.387492 -0.184402  0.999966  0.686644  0.369842   \n",
       "2743  airsquat  0.680354  0.368732 -0.194770  0.999969  0.686593  0.351571   \n",
       "2744  airsquat  0.680336  0.349574 -0.194855  0.999972  0.686582  0.332461   \n",
       "2745  airsquat  0.679985  0.329644 -0.226645  0.999974  0.686389  0.312164   \n",
       "\n",
       "            z2        v2        x3  ...      z499  v499      x500      y500  \\\n",
       "0    -0.166135  0.996997  0.316682  ...  0.001840   0.0  0.320197  0.274789   \n",
       "1    -0.229077  0.997111  0.314278  ...  0.000467   0.0  0.317291  0.276397   \n",
       "2    -0.254000  0.990152  0.373409  ...  0.000990   0.0  0.375294  0.298615   \n",
       "3    -0.095216  0.998881  0.341833  ... -0.000186   0.0  0.318080  0.324639   \n",
       "4    -0.191923  0.997874  0.347782  ...  0.001140   0.0  0.346726  0.284535   \n",
       "...        ...       ...       ...  ...       ...   ...       ...       ...   \n",
       "2741 -0.157169  0.999964  0.690781  ... -0.000568   0.0  0.692350  0.380450   \n",
       "2742 -0.162563  0.999967  0.690736  ... -0.000680   0.0  0.692603  0.363168   \n",
       "2743 -0.172129  0.999970  0.690677  ... -0.000434   0.0  0.692380  0.344320   \n",
       "2744 -0.171762  0.999973  0.690663  ... -0.000496   0.0  0.692341  0.325188   \n",
       "2745 -0.203269  0.999975  0.690502  ...  0.000000   0.0  0.000000  0.000000   \n",
       "\n",
       "          z500  v500      x501      y501      z501  v501  \n",
       "0     0.017987   0.0  0.320573  0.271809  0.019195   0.0  \n",
       "1     0.015993   0.0  0.317641  0.273520  0.017142   0.0  \n",
       "2     0.016953   0.0  0.375780  0.295943  0.018104   0.0  \n",
       "3    -0.000060   0.0  0.316504  0.328040 -0.000128   0.0  \n",
       "4     0.017149   0.0  0.347021  0.281538  0.018390   0.0  \n",
       "...        ...   ...       ...       ...       ...   ...  \n",
       "2741  0.003409   0.0  0.693318  0.378014  0.003532   0.0  \n",
       "2742  0.003342   0.0  0.693555  0.360508  0.003481   0.0  \n",
       "2743  0.003549   0.0  0.693324  0.341614  0.003698   0.0  \n",
       "2744  0.003433   0.0  0.693321  0.322493  0.003564   0.0  \n",
       "2745  0.000000   0.0  0.000000  0.000000  0.000000   0.0  \n",
       "\n",
       "[2746 rows x 2005 columns]"
      ]
     },
     "execution_count": 43,
     "metadata": {},
     "output_type": "execute_result"
    }
   ],
   "source": [
    "data"
   ]
  },
  {
   "cell_type": "code",
   "execution_count": 44,
   "metadata": {},
   "outputs": [
    {
     "data": {
      "text/plain": [
       "airsquat       1974\n",
       "jumpingjack     575\n",
       "fighting        116\n",
       "pushup           81\n",
       "Name: class, dtype: int64"
      ]
     },
     "execution_count": 44,
     "metadata": {},
     "output_type": "execute_result"
    }
   ],
   "source": [
    "data['class'].value_counts()"
   ]
  },
  {
   "cell_type": "code",
   "execution_count": 45,
   "metadata": {},
   "outputs": [
    {
     "data": {
      "text/html": [
       "<div>\n",
       "<style scoped>\n",
       "    .dataframe tbody tr th:only-of-type {\n",
       "        vertical-align: middle;\n",
       "    }\n",
       "\n",
       "    .dataframe tbody tr th {\n",
       "        vertical-align: top;\n",
       "    }\n",
       "\n",
       "    .dataframe thead th {\n",
       "        text-align: right;\n",
       "    }\n",
       "</style>\n",
       "<table border=\"1\" class=\"dataframe\">\n",
       "  <thead>\n",
       "    <tr style=\"text-align: right;\">\n",
       "      <th></th>\n",
       "      <th>class</th>\n",
       "    </tr>\n",
       "  </thead>\n",
       "  <tbody>\n",
       "    <tr>\n",
       "      <th>0</th>\n",
       "      <td>fighting</td>\n",
       "    </tr>\n",
       "    <tr>\n",
       "      <th>1</th>\n",
       "      <td>fighting</td>\n",
       "    </tr>\n",
       "    <tr>\n",
       "      <th>2</th>\n",
       "      <td>fighting</td>\n",
       "    </tr>\n",
       "    <tr>\n",
       "      <th>3</th>\n",
       "      <td>fighting</td>\n",
       "    </tr>\n",
       "    <tr>\n",
       "      <th>4</th>\n",
       "      <td>fighting</td>\n",
       "    </tr>\n",
       "    <tr>\n",
       "      <th>...</th>\n",
       "      <td>...</td>\n",
       "    </tr>\n",
       "    <tr>\n",
       "      <th>2741</th>\n",
       "      <td>airsquat</td>\n",
       "    </tr>\n",
       "    <tr>\n",
       "      <th>2742</th>\n",
       "      <td>airsquat</td>\n",
       "    </tr>\n",
       "    <tr>\n",
       "      <th>2743</th>\n",
       "      <td>airsquat</td>\n",
       "    </tr>\n",
       "    <tr>\n",
       "      <th>2744</th>\n",
       "      <td>airsquat</td>\n",
       "    </tr>\n",
       "    <tr>\n",
       "      <th>2745</th>\n",
       "      <td>airsquat</td>\n",
       "    </tr>\n",
       "  </tbody>\n",
       "</table>\n",
       "<p>2746 rows × 1 columns</p>\n",
       "</div>"
      ],
      "text/plain": [
       "         class\n",
       "0     fighting\n",
       "1     fighting\n",
       "2     fighting\n",
       "3     fighting\n",
       "4     fighting\n",
       "...        ...\n",
       "2741  airsquat\n",
       "2742  airsquat\n",
       "2743  airsquat\n",
       "2744  airsquat\n",
       "2745  airsquat\n",
       "\n",
       "[2746 rows x 1 columns]"
      ]
     },
     "execution_count": 45,
     "metadata": {},
     "output_type": "execute_result"
    }
   ],
   "source": [
    "data.iloc[:, :1]"
   ]
  },
  {
   "cell_type": "code",
   "execution_count": 46,
   "metadata": {},
   "outputs": [],
   "source": [
    "classes = data[\"class\"].unique()"
   ]
  },
  {
   "cell_type": "code",
   "execution_count": 47,
   "metadata": {},
   "outputs": [
    {
     "data": {
      "text/plain": [
       "0"
      ]
     },
     "execution_count": 47,
     "metadata": {},
     "output_type": "execute_result"
    }
   ],
   "source": [
    "data[\"class\"].isna().sum()"
   ]
  },
  {
   "cell_type": "code",
   "execution_count": 48,
   "metadata": {},
   "outputs": [],
   "source": [
    "from sklearn.model_selection import train_test_split\n",
    "from sklearn import preprocessing"
   ]
  },
  {
   "cell_type": "code",
   "execution_count": 49,
   "metadata": {},
   "outputs": [],
   "source": [
    "le = preprocessing.LabelEncoder()"
   ]
  },
  {
   "cell_type": "code",
   "execution_count": 50,
   "metadata": {},
   "outputs": [],
   "source": [
    "data['class'] = le.fit_transform(data['class'])"
   ]
  },
  {
   "cell_type": "code",
   "execution_count": 51,
   "metadata": {},
   "outputs": [
    {
     "data": {
      "text/plain": [
       "array(['airsquat', 'fighting', 'jumpingjack', 'pushup'], dtype=object)"
      ]
     },
     "execution_count": 51,
     "metadata": {},
     "output_type": "execute_result"
    }
   ],
   "source": [
    "le.classes_"
   ]
  },
  {
   "cell_type": "code",
   "execution_count": 52,
   "metadata": {},
   "outputs": [],
   "source": [
    "X = data.iloc[:, 1:]\n",
    "y = data.iloc[:, :1]\n",
    "\n",
    "X_train, X_test, y_train, y_test = train_test_split(X, y, train_size=0.1, random_state=40)"
   ]
  },
  {
   "cell_type": "code",
   "execution_count": 53,
   "metadata": {},
   "outputs": [],
   "source": [
    "from xgboost import XGBClassifier\n",
    "\n",
    "\n",
    "xgb = XGBClassifier(n_estimators = 1000)"
   ]
  },
  {
   "cell_type": "code",
   "execution_count": 54,
   "metadata": {},
   "outputs": [
    {
     "data": {
      "text/html": [
       "<style>#sk-container-id-2 {color: black;background-color: white;}#sk-container-id-2 pre{padding: 0;}#sk-container-id-2 div.sk-toggleable {background-color: white;}#sk-container-id-2 label.sk-toggleable__label {cursor: pointer;display: block;width: 100%;margin-bottom: 0;padding: 0.3em;box-sizing: border-box;text-align: center;}#sk-container-id-2 label.sk-toggleable__label-arrow:before {content: \"▸\";float: left;margin-right: 0.25em;color: #696969;}#sk-container-id-2 label.sk-toggleable__label-arrow:hover:before {color: black;}#sk-container-id-2 div.sk-estimator:hover label.sk-toggleable__label-arrow:before {color: black;}#sk-container-id-2 div.sk-toggleable__content {max-height: 0;max-width: 0;overflow: hidden;text-align: left;background-color: #f0f8ff;}#sk-container-id-2 div.sk-toggleable__content pre {margin: 0.2em;color: black;border-radius: 0.25em;background-color: #f0f8ff;}#sk-container-id-2 input.sk-toggleable__control:checked~div.sk-toggleable__content {max-height: 200px;max-width: 100%;overflow: auto;}#sk-container-id-2 input.sk-toggleable__control:checked~label.sk-toggleable__label-arrow:before {content: \"▾\";}#sk-container-id-2 div.sk-estimator input.sk-toggleable__control:checked~label.sk-toggleable__label {background-color: #d4ebff;}#sk-container-id-2 div.sk-label input.sk-toggleable__control:checked~label.sk-toggleable__label {background-color: #d4ebff;}#sk-container-id-2 input.sk-hidden--visually {border: 0;clip: rect(1px 1px 1px 1px);clip: rect(1px, 1px, 1px, 1px);height: 1px;margin: -1px;overflow: hidden;padding: 0;position: absolute;width: 1px;}#sk-container-id-2 div.sk-estimator {font-family: monospace;background-color: #f0f8ff;border: 1px dotted black;border-radius: 0.25em;box-sizing: border-box;margin-bottom: 0.5em;}#sk-container-id-2 div.sk-estimator:hover {background-color: #d4ebff;}#sk-container-id-2 div.sk-parallel-item::after {content: \"\";width: 100%;border-bottom: 1px solid gray;flex-grow: 1;}#sk-container-id-2 div.sk-label:hover label.sk-toggleable__label {background-color: #d4ebff;}#sk-container-id-2 div.sk-serial::before {content: \"\";position: absolute;border-left: 1px solid gray;box-sizing: border-box;top: 0;bottom: 0;left: 50%;z-index: 0;}#sk-container-id-2 div.sk-serial {display: flex;flex-direction: column;align-items: center;background-color: white;padding-right: 0.2em;padding-left: 0.2em;position: relative;}#sk-container-id-2 div.sk-item {position: relative;z-index: 1;}#sk-container-id-2 div.sk-parallel {display: flex;align-items: stretch;justify-content: center;background-color: white;position: relative;}#sk-container-id-2 div.sk-item::before, #sk-container-id-2 div.sk-parallel-item::before {content: \"\";position: absolute;border-left: 1px solid gray;box-sizing: border-box;top: 0;bottom: 0;left: 50%;z-index: -1;}#sk-container-id-2 div.sk-parallel-item {display: flex;flex-direction: column;z-index: 1;position: relative;background-color: white;}#sk-container-id-2 div.sk-parallel-item:first-child::after {align-self: flex-end;width: 50%;}#sk-container-id-2 div.sk-parallel-item:last-child::after {align-self: flex-start;width: 50%;}#sk-container-id-2 div.sk-parallel-item:only-child::after {width: 0;}#sk-container-id-2 div.sk-dashed-wrapped {border: 1px dashed gray;margin: 0 0.4em 0.5em 0.4em;box-sizing: border-box;padding-bottom: 0.4em;background-color: white;}#sk-container-id-2 div.sk-label label {font-family: monospace;font-weight: bold;display: inline-block;line-height: 1.2em;}#sk-container-id-2 div.sk-label-container {text-align: center;}#sk-container-id-2 div.sk-container {/* jupyter's `normalize.less` sets `[hidden] { display: none; }` but bootstrap.min.css set `[hidden] { display: none !important; }` so we also need the `!important` here to be able to override the default hidden behavior on the sphinx rendered scikit-learn.org. See: https://github.com/scikit-learn/scikit-learn/issues/21755 */display: inline-block !important;position: relative;}#sk-container-id-2 div.sk-text-repr-fallback {display: none;}</style><div id=\"sk-container-id-2\" class=\"sk-top-container\"><div class=\"sk-text-repr-fallback\"><pre>XGBClassifier(base_score=0.5, booster=&#x27;gbtree&#x27;, callbacks=None,\n",
       "              colsample_bylevel=1, colsample_bynode=1, colsample_bytree=1,\n",
       "              early_stopping_rounds=None, enable_categorical=False,\n",
       "              eval_metric=None, gamma=0, gpu_id=-1, grow_policy=&#x27;depthwise&#x27;,\n",
       "              importance_type=None, interaction_constraints=&#x27;&#x27;,\n",
       "              learning_rate=0.300000012, max_bin=256, max_cat_to_onehot=4,\n",
       "              max_delta_step=0, max_depth=6, max_leaves=0, min_child_weight=1,\n",
       "              missing=nan, monotone_constraints=&#x27;()&#x27;, n_estimators=1000,\n",
       "              n_jobs=0, num_parallel_tree=1, objective=&#x27;multi:softprob&#x27;,\n",
       "              predictor=&#x27;auto&#x27;, random_state=0, reg_alpha=0, ...)</pre><b>In a Jupyter environment, please rerun this cell to show the HTML representation or trust the notebook. <br />On GitHub, the HTML representation is unable to render, please try loading this page with nbviewer.org.</b></div><div class=\"sk-container\" hidden><div class=\"sk-item\"><div class=\"sk-estimator sk-toggleable\"><input class=\"sk-toggleable__control sk-hidden--visually\" id=\"sk-estimator-id-2\" type=\"checkbox\" checked><label for=\"sk-estimator-id-2\" class=\"sk-toggleable__label sk-toggleable__label-arrow\">XGBClassifier</label><div class=\"sk-toggleable__content\"><pre>XGBClassifier(base_score=0.5, booster=&#x27;gbtree&#x27;, callbacks=None,\n",
       "              colsample_bylevel=1, colsample_bynode=1, colsample_bytree=1,\n",
       "              early_stopping_rounds=None, enable_categorical=False,\n",
       "              eval_metric=None, gamma=0, gpu_id=-1, grow_policy=&#x27;depthwise&#x27;,\n",
       "              importance_type=None, interaction_constraints=&#x27;&#x27;,\n",
       "              learning_rate=0.300000012, max_bin=256, max_cat_to_onehot=4,\n",
       "              max_delta_step=0, max_depth=6, max_leaves=0, min_child_weight=1,\n",
       "              missing=nan, monotone_constraints=&#x27;()&#x27;, n_estimators=1000,\n",
       "              n_jobs=0, num_parallel_tree=1, objective=&#x27;multi:softprob&#x27;,\n",
       "              predictor=&#x27;auto&#x27;, random_state=0, reg_alpha=0, ...)</pre></div></div></div></div></div>"
      ],
      "text/plain": [
       "XGBClassifier(base_score=0.5, booster='gbtree', callbacks=None,\n",
       "              colsample_bylevel=1, colsample_bynode=1, colsample_bytree=1,\n",
       "              early_stopping_rounds=None, enable_categorical=False,\n",
       "              eval_metric=None, gamma=0, gpu_id=-1, grow_policy='depthwise',\n",
       "              importance_type=None, interaction_constraints='',\n",
       "              learning_rate=0.300000012, max_bin=256, max_cat_to_onehot=4,\n",
       "              max_delta_step=0, max_depth=6, max_leaves=0, min_child_weight=1,\n",
       "              missing=nan, monotone_constraints='()', n_estimators=1000,\n",
       "              n_jobs=0, num_parallel_tree=1, objective='multi:softprob',\n",
       "              predictor='auto', random_state=0, reg_alpha=0, ...)"
      ]
     },
     "execution_count": 54,
     "metadata": {},
     "output_type": "execute_result"
    }
   ],
   "source": [
    "xgb.fit(X_train, y_train)"
   ]
  },
  {
   "cell_type": "code",
   "execution_count": 55,
   "metadata": {},
   "outputs": [],
   "source": [
    "predicted = xgb.predict(X_test)"
   ]
  },
  {
   "cell_type": "code",
   "execution_count": 56,
   "metadata": {},
   "outputs": [
    {
     "data": {
      "text/plain": [
       "0.9362851605112147"
      ]
     },
     "execution_count": 56,
     "metadata": {},
     "output_type": "execute_result"
    }
   ],
   "source": [
    "from sklearn.metrics import f1_score\n",
    "\n",
    "\n",
    "f1_score(predicted,y_test, average='macro')"
   ]
  },
  {
   "cell_type": "markdown",
   "metadata": {},
   "source": [
    "from vid"
   ]
  },
  {
   "cell_type": "code",
   "execution_count": 25,
   "metadata": {},
   "outputs": [],
   "source": [
    "from sklearn.pipeline import make_pipeline \n",
    "from sklearn.preprocessing import StandardScaler \n",
    "\n",
    "from sklearn.linear_model import LogisticRegression, RidgeClassifier\n",
    "from sklearn.ensemble import RandomForestClassifier, GradientBoostingClassifier"
   ]
  },
  {
   "cell_type": "code",
   "execution_count": 26,
   "metadata": {},
   "outputs": [],
   "source": [
    "pipelines = {\n",
    "    'lr':make_pipeline(StandardScaler(), LogisticRegression()),\n",
    "    'rc':make_pipeline(StandardScaler(), RidgeClassifier()),\n",
    "    'rf':make_pipeline(StandardScaler(), RandomForestClassifier()),\n",
    "    'gb':make_pipeline(StandardScaler(), GradientBoostingClassifier()),\n",
    "}"
   ]
  },
  {
   "cell_type": "code",
   "execution_count": 27,
   "metadata": {},
   "outputs": [
    {
     "name": "stderr",
     "output_type": "stream",
     "text": [
      "c:\\Users\\victo\\anaconda3\\envs\\dev\\lib\\site-packages\\sklearn\\utils\\validation.py:1111: DataConversionWarning: A column-vector y was passed when a 1d array was expected. Please change the shape of y to (n_samples, ), for example using ravel().\n",
      "  y = column_or_1d(y, warn=True)\n",
      "c:\\Users\\victo\\anaconda3\\envs\\dev\\lib\\site-packages\\sklearn\\linear_model\\_logistic.py:444: ConvergenceWarning: lbfgs failed to converge (status=1):\n",
      "STOP: TOTAL NO. of ITERATIONS REACHED LIMIT.\n",
      "\n",
      "Increase the number of iterations (max_iter) or scale the data as shown in:\n",
      "    https://scikit-learn.org/stable/modules/preprocessing.html\n",
      "Please also refer to the documentation for alternative solver options:\n",
      "    https://scikit-learn.org/stable/modules/linear_model.html#logistic-regression\n",
      "  n_iter_i = _check_optimize_result(\n",
      "c:\\Users\\victo\\anaconda3\\envs\\dev\\lib\\site-packages\\sklearn\\linear_model\\_ridge.py:1178: DataConversionWarning: A column-vector y was passed when a 1d array was expected. Please change the shape of y to (n_samples, ), for example using ravel().\n",
      "  y = column_or_1d(y, warn=True)\n",
      "c:\\Users\\victo\\anaconda3\\envs\\dev\\lib\\site-packages\\sklearn\\pipeline.py:382: DataConversionWarning: A column-vector y was passed when a 1d array was expected. Please change the shape of y to (n_samples,), for example using ravel().\n",
      "  self._final_estimator.fit(Xt, y, **fit_params_last_step)\n",
      "c:\\Users\\victo\\anaconda3\\envs\\dev\\lib\\site-packages\\sklearn\\ensemble\\_gb.py:570: DataConversionWarning: A column-vector y was passed when a 1d array was expected. Please change the shape of y to (n_samples, ), for example using ravel().\n",
      "  y = column_or_1d(y, warn=True)\n"
     ]
    }
   ],
   "source": [
    "fit_models = {}\n",
    "for algo, pipeline in pipelines.items():\n",
    "    model = pipeline.fit(X_train, y_train)\n",
    "    fit_models[algo] = model"
   ]
  },
  {
   "cell_type": "code",
   "execution_count": 28,
   "metadata": {},
   "outputs": [
    {
     "name": "stdout",
     "output_type": "stream",
     "text": [
      "0.9835738792260814\n",
      "0.9958046648654854\n",
      "0.9841166205735289\n",
      "0.979246917698053\n"
     ]
    }
   ],
   "source": [
    "out = fit_models['rc'].predict(X_test)\n",
    "\n",
    "for i in fit_models:\n",
    "    out = fit_models[i].predict(X_test)\n",
    "    print(f1_score(out,y_test, average='macro'))"
   ]
  },
  {
   "cell_type": "markdown",
   "metadata": {},
   "source": [
    "Predict and Show"
   ]
  },
  {
   "cell_type": "code",
   "execution_count": 59,
   "metadata": {},
   "outputs": [],
   "source": [
    "holistic = mp_holistic.Holistic(min_detection_confidence=0.5, min_tracking_confidence=0.5)\n",
    "    \n",
    "#0 for webcam\n",
    "#1 for default video\n",
    "path_to_file = 'gestures/testing/airsquat-wild.mp4'\n",
    "capture = request_capture(1, path_to_file)\n",
    "pTime = 0\n",
    "while(1):\n",
    "    ret , frame = capture.read()\n",
    "\n",
    "    try:\n",
    "        #mpPose processa cada frame no formato RGB\n",
    "        frameRGB = cv2.cvtColor(frame,cv2.COLOR_RGB2BGR)\n",
    "        results = holistic.process(frameRGB)\n",
    "\n",
    "        #R_landmark = results.pose_landmarks\n",
    "\n",
    "        cTime = time.time()\n",
    "        \n",
    "        landmmark_work(results, mpPose, mpDraw, mp_holistic, frame)\n",
    "        \n",
    "        fps = 1/(cTime - pTime)\n",
    "        pTime = cTime\n",
    "\n",
    "        cv2.putText(frame, str(int(fps)), (60,60), cv2.FONT_HERSHEY_PLAIN, 3, (250,0,90),3)\n",
    "        \n",
    "\n",
    "        try:\n",
    "            # Extract Pose landmarks\n",
    "            pose = results.pose_landmarks.landmark\n",
    "            pose_row = list(np.array([[landmark.x, landmark.y, landmark.z, landmark.visibility] for landmark in pose]).flatten())\n",
    "            \n",
    "            # Extract Face landmarks\n",
    "            if(results.face_landmarks):\n",
    "                face = results.face_landmarks.landmark\n",
    "                face_row = list(np.array([[landmark.x, landmark.y, landmark.z, landmark.visibility] for landmark in face]).flatten())\n",
    "            else:\n",
    "                face_row = list(np.zeros(468*4).flatten())\n",
    "            # Concate rows\n",
    "            \n",
    "            row = pose_row+face_row\n",
    "\n",
    "\n",
    "            \n",
    "            X = np.array(row).reshape(1,-1)\n",
    "            body_language_class = le.inverse_transform(xgb.predict(X))\n",
    "            body_language_prob = xgb.predict_proba(X)\n",
    "            #print(body_language_class, body_language_prob)\n",
    "\n",
    "            \n",
    "            # Get status box\n",
    "            #cv2.rectangle(frame, (100,100), (250, 60), (245, 117, 16), -1)\n",
    "            \n",
    "            # Display Class\n",
    "            cv2.putText(frame, 'CLASS'\n",
    "                        , (120,140), cv2.FONT_HERSHEY_SIMPLEX, 0.5, (0, 0, 0), 1, cv2.LINE_AA)\n",
    "            cv2.putText(frame, body_language_class[0]\n",
    "                        , (130,168), cv2.FONT_HERSHEY_SIMPLEX, 1, (255, 0, 233), 2, cv2.LINE_AA)\n",
    "            \n",
    "            # Display Probability\n",
    "            cv2.putText(frame, 'PROB'\n",
    "                        , (300,12), cv2.FONT_HERSHEY_SIMPLEX, 0.5, (0, 0, 0), 1, cv2.LINE_AA)\n",
    "            cv2.putText(frame, str(round(body_language_prob.max(),2))\n",
    "                        , (300,40), cv2.FONT_HERSHEY_SIMPLEX, 1, (255, 0, 233), 2, cv2.LINE_AA)\n",
    "        except:\n",
    "            pass\n",
    "\n",
    "    except:\n",
    "        pass\n",
    "\n",
    "    cv2.imshow(\"Video\", frame)\n",
    "\n",
    "    k = cv2.waitKey(5) & 0xff\n",
    "    if k == 27:\n",
    "        break\n",
    "\n",
    "capture.release()\n",
    "cv2.destroyAllWindows()"
   ]
  },
  {
   "cell_type": "code",
   "execution_count": 40,
   "metadata": {},
   "outputs": [
    {
     "data": {
      "text/plain": [
       "array([ 0.51385081,  0.44113106, -1.17197299, ...,  0.37191319,\n",
       "        0.03729007,  0.        ])"
      ]
     },
     "execution_count": 40,
     "metadata": {},
     "output_type": "execute_result"
    }
   ],
   "source": [
    "np.array(row).reshape(1,-1)[0]"
   ]
  },
  {
   "cell_type": "code",
   "execution_count": 56,
   "metadata": {},
   "outputs": [
    {
     "data": {
      "text/plain": [
       "'cross'"
      ]
     },
     "execution_count": 56,
     "metadata": {},
     "output_type": "execute_result"
    }
   ],
   "source": [
    "body_language_class[0]"
   ]
  },
  {
   "cell_type": "code",
   "execution_count": 53,
   "metadata": {},
   "outputs": [
    {
     "data": {
      "text/plain": [
       "0.43646085"
      ]
     },
     "execution_count": 53,
     "metadata": {},
     "output_type": "execute_result"
    }
   ],
   "source": [
    "body_language_prob.max()"
   ]
  },
  {
   "cell_type": "code",
   "execution_count": null,
   "metadata": {},
   "outputs": [
    {
     "data": {
      "text/html": [
       "<div>\n",
       "<style scoped>\n",
       "    .dataframe tbody tr th:only-of-type {\n",
       "        vertical-align: middle;\n",
       "    }\n",
       "\n",
       "    .dataframe tbody tr th {\n",
       "        vertical-align: top;\n",
       "    }\n",
       "\n",
       "    .dataframe thead th {\n",
       "        text-align: right;\n",
       "    }\n",
       "</style>\n",
       "<table border=\"1\" class=\"dataframe\">\n",
       "  <thead>\n",
       "    <tr style=\"text-align: right;\">\n",
       "      <th></th>\n",
       "      <th>x1</th>\n",
       "      <th>y1</th>\n",
       "      <th>z1</th>\n",
       "      <th>v1</th>\n",
       "      <th>x2</th>\n",
       "      <th>y2</th>\n",
       "      <th>z2</th>\n",
       "      <th>v2</th>\n",
       "      <th>x3</th>\n",
       "      <th>y3</th>\n",
       "      <th>...</th>\n",
       "      <th>z499</th>\n",
       "      <th>v499</th>\n",
       "      <th>x500</th>\n",
       "      <th>y500</th>\n",
       "      <th>z500</th>\n",
       "      <th>v500</th>\n",
       "      <th>x501</th>\n",
       "      <th>y501</th>\n",
       "      <th>z501</th>\n",
       "      <th>v501</th>\n",
       "    </tr>\n",
       "  </thead>\n",
       "  <tbody>\n",
       "    <tr>\n",
       "      <th>431</th>\n",
       "      <td>0.613151</td>\n",
       "      <td>0.323376</td>\n",
       "      <td>-0.863807</td>\n",
       "      <td>0.999949</td>\n",
       "      <td>0.638241</td>\n",
       "      <td>0.280118</td>\n",
       "      <td>-0.788851</td>\n",
       "      <td>0.999919</td>\n",
       "      <td>0.652348</td>\n",
       "      <td>0.282709</td>\n",
       "      <td>...</td>\n",
       "      <td>0.006362</td>\n",
       "      <td>0.0</td>\n",
       "      <td>0.649286</td>\n",
       "      <td>0.283245</td>\n",
       "      <td>0.022695</td>\n",
       "      <td>0.0</td>\n",
       "      <td>0.653343</td>\n",
       "      <td>0.280082</td>\n",
       "      <td>0.023166</td>\n",
       "      <td>0.0</td>\n",
       "    </tr>\n",
       "  </tbody>\n",
       "</table>\n",
       "<p>1 rows × 2004 columns</p>\n",
       "</div>"
      ],
      "text/plain": [
       "           x1        y1        z1        v1        x2        y2        z2  \\\n",
       "431  0.613151  0.323376 -0.863807  0.999949  0.638241  0.280118 -0.788851   \n",
       "\n",
       "           v2        x3        y3  ...      z499  v499      x500      y500  \\\n",
       "431  0.999919  0.652348  0.282709  ...  0.006362   0.0  0.649286  0.283245   \n",
       "\n",
       "         z500  v500      x501      y501      z501  v501  \n",
       "431  0.022695   0.0  0.653343  0.280082  0.023166   0.0  \n",
       "\n",
       "[1 rows x 2004 columns]"
      ]
     },
     "execution_count": 204,
     "metadata": {},
     "output_type": "execute_result"
    }
   ],
   "source": [
    "X_test[:1]"
   ]
  },
  {
   "cell_type": "code",
   "execution_count": null,
   "metadata": {},
   "outputs": [
    {
     "data": {
      "text/plain": [
       "(2004,)"
      ]
     },
     "execution_count": 213,
     "metadata": {},
     "output_type": "execute_result"
    }
   ],
   "source": [
    "np.array(row).shape"
   ]
  },
  {
   "cell_type": "code",
   "execution_count": 217,
   "metadata": {},
   "outputs": [
    {
     "data": {
      "text/plain": [
       "array([[ 0.57147515,  0.3097128 , -1.16323829, ...,  0.24264657,\n",
       "         0.0232226 ,  0.        ]])"
      ]
     },
     "execution_count": 217,
     "metadata": {},
     "output_type": "execute_result"
    }
   ],
   "source": [
    "np.array(row).reshape(1,-1)"
   ]
  },
  {
   "cell_type": "code",
   "execution_count": 5,
   "metadata": {},
   "outputs": [],
   "source": [
    "dir = './gestures'\n",
    "sub_dir = [name for name in os.listdir(dir) if os.path.isdir(os.path.join(dir, name))]"
   ]
  },
  {
   "cell_type": "code",
   "execution_count": 6,
   "metadata": {},
   "outputs": [
    {
     "data": {
      "text/plain": [
       "['physical', 'testing']"
      ]
     },
     "execution_count": 6,
     "metadata": {},
     "output_type": "execute_result"
    }
   ],
   "source": [
    "sub_dir"
   ]
  },
  {
   "cell_type": "code",
   "execution_count": 15,
   "metadata": {},
   "outputs": [
    {
     "data": {
      "text/plain": [
       "'./gestures/physical'"
      ]
     },
     "execution_count": 15,
     "metadata": {},
     "output_type": "execute_result"
    }
   ],
   "source": [
    "new_path = dir+'/'+sub_dir[0]\n",
    "new_path"
   ]
  },
  {
   "cell_type": "code",
   "execution_count": 18,
   "metadata": {},
   "outputs": [
    {
     "data": {
      "text/plain": [
       "['air-squat.mp4',\n",
       " 'airsquat.mp4',\n",
       " 'fighting1.mp4',\n",
       " 'fighting2.mp4',\n",
       " 'jumping-jack.mp4',\n",
       " 'push-up.mp4']"
      ]
     },
     "execution_count": 18,
     "metadata": {},
     "output_type": "execute_result"
    }
   ],
   "source": [
    "files = [name for name in os.listdir(new_path) if os.path.isfile((os.path.join(new_path, name)))]\n",
    "files"
   ]
  },
  {
   "cell_type": "code",
   "execution_count": 19,
   "metadata": {},
   "outputs": [
    {
     "data": {
      "text/plain": [
       "'./gestures/physical/air-squat.mp4'"
      ]
     },
     "execution_count": 19,
     "metadata": {},
     "output_type": "execute_result"
    }
   ],
   "source": [
    "new_path+'/'+files[0]"
   ]
  }
 ],
 "metadata": {
  "kernelspec": {
   "display_name": "Python 3.9.13 ('dev')",
   "language": "python",
   "name": "python3"
  },
  "language_info": {
   "codemirror_mode": {
    "name": "ipython",
    "version": 3
   },
   "file_extension": ".py",
   "mimetype": "text/x-python",
   "name": "python",
   "nbconvert_exporter": "python",
   "pygments_lexer": "ipython3",
   "version": "3.9.13"
  },
  "orig_nbformat": 4,
  "vscode": {
   "interpreter": {
    "hash": "6ec50e2dddca2376d90d7f852e4579e00459be64bf68dd155a4947fa3ea19e2b"
   }
  }
 },
 "nbformat": 4,
 "nbformat_minor": 2
}
