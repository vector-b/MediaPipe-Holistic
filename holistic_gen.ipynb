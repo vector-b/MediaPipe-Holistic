{
 "cells": [
  {
   "cell_type": "code",
   "execution_count": 175,
   "metadata": {},
   "outputs": [],
   "source": [
    "import cv2\n",
    "import mediapipe as mp\n",
    "import time\n",
    "import pandas as pd\n",
    "import numpy as np"
   ]
  },
  {
   "cell_type": "code",
   "execution_count": 176,
   "metadata": {},
   "outputs": [],
   "source": [
    "num_coords = 501"
   ]
  },
  {
   "cell_type": "code",
   "execution_count": 177,
   "metadata": {},
   "outputs": [],
   "source": [
    "def landmmark_work(results, mpPose, mpDraw,mpHol, frame):\n",
    "    if (results.pose_landmarks):\n",
    "        mpDraw.draw_landmarks(frame, results.face_landmarks, mpHol.FACEMESH_TESSELATION, \n",
    "                                 mpDraw.DrawingSpec(color=(80,110,10), thickness=1, circle_radius=1),\n",
    "                                 mpDraw.DrawingSpec(color=(80,256,121), thickness=1, circle_radius=1)\n",
    "                                 )\n",
    "        \n",
    "        # 2. Right hand\n",
    "        mpDraw.draw_landmarks(frame, results.right_hand_landmarks, mpHol.HAND_CONNECTIONS, \n",
    "                                 mpDraw.DrawingSpec(color=(80,22,10), thickness=2, circle_radius=4),\n",
    "                                 mpDraw.DrawingSpec(color=(80,44,121), thickness=2, circle_radius=2)\n",
    "                                 )\n",
    "\n",
    "        # 3. Left Hand\n",
    "        mpDraw.draw_landmarks(frame, results.left_hand_landmarks, mpHol.HAND_CONNECTIONS, \n",
    "                                 mpDraw.DrawingSpec(color=(121,22,76), thickness=2, circle_radius=4),\n",
    "                                 mpDraw.DrawingSpec(color=(121,44,250), thickness=2, circle_radius=2)\n",
    "                                 )\n",
    "\n",
    "        # 4. Pose Detections\n",
    "        mpDraw.draw_landmarks(frame, results.pose_landmarks, mpHol.POSE_CONNECTIONS, \n",
    "                                 mpDraw.DrawingSpec(color=(245,117,66), thickness=2, circle_radius=4),\n",
    "                                 mpDraw.DrawingSpec(color=(245,66,230), thickness=2, circle_radius=2)\n",
    "                                 )\n",
    "\n",
    "def request_capture(type=0, path=None):\n",
    "\n",
    "    if(type):\n",
    "        capture = cv2.VideoCapture(path)\n",
    "    else:\n",
    "        capture = cv2.VideoCapture(0)\n",
    "    return capture"
   ]
  },
  {
   "cell_type": "code",
   "execution_count": 178,
   "metadata": {},
   "outputs": [],
   "source": [
    "mpPose = mp.solutions.pose\n",
    "mpDraw = mp.solutions.drawing_utils\n",
    "mp_holistic = mp.solutions.holistic"
   ]
  },
  {
   "cell_type": "code",
   "execution_count": 179,
   "metadata": {},
   "outputs": [],
   "source": [
    "\n",
    "\n",
    "from cv2 import CAP_PROP_APERTURE\n",
    "\n",
    "\n",
    "holistic = mp_holistic.Holistic(min_detection_confidence=0.5, min_tracking_confidence=0.5)\n",
    "    \n",
    "#0 for webcam\n",
    "#1 for default video\n",
    "path_to_file = 'balad.mp4'\n",
    "capture = request_capture(1, path_to_file)\n",
    "\n",
    "# Define the codec and create VideoWriter object.The output is stored in 'outpy.avi' file.\n",
    "width = int(capture.get(cv2.CAP_PROP_FRAME_WIDTH) + 0.5)\n",
    "height = int(capture.get(cv2.CAP_PROP_FRAME_HEIGHT) + 0.5)\n",
    "#size = (width, height)\n",
    "#fourcc = cv2.VideoWriter_fourcc(*'XVID')\n",
    "#out = cv2.VideoWriter('your_video.avi', fourcc, 20.0, size)\n",
    "pTime = 0\n",
    "\n",
    "while(1):\n",
    "    ret , frame = capture.read()\n",
    "    try:\n",
    "        #mpPose processa cada frame no formato RGB\n",
    "        frameRGB = cv2.cvtColor(frame,cv2.COLOR_RGB2BGR)\n",
    "        results = holistic.process(frameRGB)\n",
    "\n",
    "        #R_landmark = results.pose_landmarks\n",
    "\n",
    "        cTime = time.time()\n",
    "        \n",
    "        landmmark_work(results, mpPose, mpDraw, mp_holistic, frame)\n",
    "        \n",
    "        cv2.imshow(\"Video\", frame)\n",
    "        out.write(frame)\n",
    "    except:\n",
    "        break\n",
    "\n",
    "    k = cv2.waitKey(5) & 0xff\n",
    "    if k == 27:\n",
    "        break\n",
    "\n",
    "frame_width = int(capture.get(3))\n",
    "frame_height = int(capture.get(4))\n",
    "# Define the codec and create VideoWriter object.The output is stored in 'outpy.avi' file.\n",
    "capture.release()\n",
    "out.release()\n",
    "cv2.destroyAllWindows()"
   ]
  },
  {
   "cell_type": "markdown",
   "metadata": {},
   "source": [
    "Export Landmarks"
   ]
  },
  {
   "cell_type": "code",
   "execution_count": 180,
   "metadata": {},
   "outputs": [],
   "source": [
    "import csv\n",
    "import os\n",
    "import numpy as np"
   ]
  },
  {
   "cell_type": "code",
   "execution_count": null,
   "metadata": {},
   "outputs": [],
   "source": [
    "colunas = ['x', 'y', 'z', 'v']"
   ]
  },
  {
   "cell_type": "code",
   "execution_count": null,
   "metadata": {},
   "outputs": [
    {
     "data": {
      "text/plain": [
       "'df = pd.DataFrame()\\nfor i in range(1,num_coords):\\n    data = {\"x\": results.pose_landmarks.landmark[i].x, \"y\":results.pose_landmarks.landmark[i].y, \"z\":results.pose_landmarks.landmark[i].z, \"v\":results.pose_landmarks.landmark[i].visibility}\\n    df = df.append(data, ignore_index=True)'"
      ]
     },
     "execution_count": 8,
     "metadata": {},
     "output_type": "execute_result"
    }
   ],
   "source": [
    "'''df = pd.DataFrame()\n",
    "for i in range(1,num_coords):\n",
    "    data = {\"x\": results.pose_landmarks.landmark[i].x, \"y\":results.pose_landmarks.landmark[i].y, \"z\":results.pose_landmarks.landmark[i].z, \"v\":results.pose_landmarks.landmark[i].visibility}\n",
    "    df = df.append(data, ignore_index=True)'''"
   ]
  },
  {
   "cell_type": "code",
   "execution_count": null,
   "metadata": {},
   "outputs": [],
   "source": [
    "filename = 'coord.csv'"
   ]
  },
  {
   "cell_type": "code",
   "execution_count": null,
   "metadata": {},
   "outputs": [],
   "source": [
    "landmarks_class = ['class']\n",
    "for i in range (1, num_coords+1):\n",
    "    landmarks_class += ['x{}'.format(i), 'y{}'.format(i) , 'z{}'.format(i), 'v{}'.format(i)]"
   ]
  },
  {
   "cell_type": "code",
   "execution_count": null,
   "metadata": {},
   "outputs": [],
   "source": [
    "with open(filename, mode='w', newline='') as f:\n",
    "    csv_writer = csv.writer(f, delimiter=',', quotechar='\"', quoting=csv.QUOTE_MINIMAL)\n",
    "    csv_writer.writerow(landmarks_class)"
   ]
  },
  {
   "cell_type": "code",
   "execution_count": null,
   "metadata": {},
   "outputs": [],
   "source": [
    "class_name = \"airsquat\""
   ]
  },
  {
   "cell_type": "code",
   "execution_count": null,
   "metadata": {},
   "outputs": [],
   "source": [
    "path = './gestures'\n",
    "\n",
    "    \n",
    "dir = path\n",
    "sub_dir = [name for name in os.listdir(dir) if os.path.isdir(os.path.join(dir, name))]"
   ]
  },
  {
   "cell_type": "code",
   "execution_count": null,
   "metadata": {},
   "outputs": [
    {
     "data": {
      "text/plain": [
       "['physical', 'testing']"
      ]
     },
     "execution_count": 21,
     "metadata": {},
     "output_type": "execute_result"
    }
   ],
   "source": [
    "sub_dir"
   ]
  },
  {
   "cell_type": "code",
   "execution_count": null,
   "metadata": {},
   "outputs": [],
   "source": [
    "for i in sub_dir:\n",
    "        class_name = i\n",
    "        path_to_file = dir+'/'+i"
   ]
  },
  {
   "cell_type": "code",
   "execution_count": null,
   "metadata": {},
   "outputs": [
    {
     "data": {
      "text/plain": [
       "'./gestures/testing'"
      ]
     },
     "execution_count": 24,
     "metadata": {},
     "output_type": "execute_result"
    }
   ],
   "source": [
    "path_to_file"
   ]
  },
  {
   "cell_type": "code",
   "execution_count": null,
   "metadata": {},
   "outputs": [],
   "source": [
    "holistic = mp_holistic.Holistic(min_detection_confidence=0.5, min_tracking_confidence=0.5)\n",
    "    \n",
    "#0 for webcam\n",
    "#1 for default video\n",
    "path_to_file = 'gestures/physical/airsquat.mp4'\n",
    "capture = request_capture(1, path_to_file)\n",
    "pTime = 0\n",
    "while(1):\n",
    "    ret , frame = capture.read()\n",
    "\n",
    "    #mpPose processa cada frame no formato RGB\n",
    "\n",
    "    try:\n",
    "        image = cv2.cvtColor(frame, cv2.COLOR_BGR2RGB)\n",
    "        image.flags.writeable = False\n",
    "\n",
    "\n",
    "        results = holistic.process(image)\n",
    "\n",
    "\n",
    "        image.flags.writeable = True   \n",
    "        image = cv2.cvtColor(image, cv2.COLOR_RGB2BGR)\n",
    "\n",
    "        #R_landmark = results.pose_landmarks\n",
    "\n",
    "        cTime = time.time()\n",
    "    \n",
    "        landmmark_work(results, mpPose, mpDraw, mp_holistic, frame)\n",
    "    \n",
    "        fps = 1/(cTime - pTime)\n",
    "        pTime = cTime\n",
    "    \n",
    "        cv2.putText(frame, str(int(fps)), (60,60), cv2.FONT_HERSHEY_PLAIN, 3, (255,100,120),3)\n",
    "        cv2.imshow(\"Video\", frame)\n",
    "\n",
    "\n",
    "        try:\n",
    "\n",
    "            pose = results.pose_landmarks.landmark\n",
    "            pose_row = list(np.array([[landmark.x, landmark.y, landmark.z, landmark.visibility] for landmark in pose]).flatten())\n",
    "\n",
    "            if(results.face_landmarks):\n",
    "              face = results.face_landmarks.landmark\n",
    "              face_row = list(np.array([[landmark.x, landmark.y, landmark.z, landmark.visibility] for landmark in face]).flatten())\n",
    "            else:\n",
    "              face_row = list(np.zeros(468*4).flatten())\n",
    "\n",
    "            row = pose_row+face_row\n",
    "        \n",
    "            row.insert(0, class_name)\n",
    "        \n",
    "            with open(filename, mode='a', newline='') as f:\n",
    "                csv_writer = csv.writer(f, delimiter=',', quotechar='\"', quoting=csv.QUOTE_MINIMAL)\n",
    "                csv_writer.writerow(row) \n",
    "        \n",
    "        except:\n",
    "            pass\n",
    "    except:\n",
    "        pass\n",
    "\n",
    "\n",
    "    k = cv2.waitKey(5) & 0xff\n",
    "    if k == 27:\n",
    "        break\n",
    "\n",
    "capture.release()\n",
    "cv2.destroyAllWindows()"
   ]
  },
  {
   "cell_type": "markdown",
   "metadata": {},
   "source": [
    "Model"
   ]
  },
  {
   "cell_type": "code",
   "execution_count": null,
   "metadata": {},
   "outputs": [],
   "source": [
    "data= pd.read_csv('coords.csv')"
   ]
  },
  {
   "cell_type": "code",
   "execution_count": null,
   "metadata": {},
   "outputs": [
    {
     "data": {
      "text/html": [
       "<div>\n",
       "<style scoped>\n",
       "    .dataframe tbody tr th:only-of-type {\n",
       "        vertical-align: middle;\n",
       "    }\n",
       "\n",
       "    .dataframe tbody tr th {\n",
       "        vertical-align: top;\n",
       "    }\n",
       "\n",
       "    .dataframe thead th {\n",
       "        text-align: right;\n",
       "    }\n",
       "</style>\n",
       "<table border=\"1\" class=\"dataframe\">\n",
       "  <thead>\n",
       "    <tr style=\"text-align: right;\">\n",
       "      <th></th>\n",
       "      <th>class</th>\n",
       "      <th>x1</th>\n",
       "      <th>y1</th>\n",
       "      <th>z1</th>\n",
       "      <th>v1</th>\n",
       "      <th>x2</th>\n",
       "      <th>y2</th>\n",
       "      <th>z2</th>\n",
       "      <th>v2</th>\n",
       "      <th>x3</th>\n",
       "      <th>...</th>\n",
       "      <th>z499</th>\n",
       "      <th>v499</th>\n",
       "      <th>x500</th>\n",
       "      <th>y500</th>\n",
       "      <th>z500</th>\n",
       "      <th>v500</th>\n",
       "      <th>x501</th>\n",
       "      <th>y501</th>\n",
       "      <th>z501</th>\n",
       "      <th>v501</th>\n",
       "    </tr>\n",
       "  </thead>\n",
       "  <tbody>\n",
       "    <tr>\n",
       "      <th>0</th>\n",
       "      <td>pull-up</td>\n",
       "      <td>0.456191</td>\n",
       "      <td>0.531645</td>\n",
       "      <td>-0.556522</td>\n",
       "      <td>0.999973</td>\n",
       "      <td>0.447566</td>\n",
       "      <td>0.529380</td>\n",
       "      <td>-0.566028</td>\n",
       "      <td>0.999973</td>\n",
       "      <td>0.443536</td>\n",
       "      <td>...</td>\n",
       "      <td>0.000000</td>\n",
       "      <td>0.0</td>\n",
       "      <td>0.000000</td>\n",
       "      <td>0.000000</td>\n",
       "      <td>0.000000</td>\n",
       "      <td>0.0</td>\n",
       "      <td>0.000000</td>\n",
       "      <td>0.000000</td>\n",
       "      <td>0.000000</td>\n",
       "      <td>0.0</td>\n",
       "    </tr>\n",
       "    <tr>\n",
       "      <th>1</th>\n",
       "      <td>pull-up</td>\n",
       "      <td>0.456181</td>\n",
       "      <td>0.519706</td>\n",
       "      <td>-0.619696</td>\n",
       "      <td>0.999959</td>\n",
       "      <td>0.450016</td>\n",
       "      <td>0.518875</td>\n",
       "      <td>-0.625350</td>\n",
       "      <td>0.999960</td>\n",
       "      <td>0.447758</td>\n",
       "      <td>...</td>\n",
       "      <td>0.000000</td>\n",
       "      <td>0.0</td>\n",
       "      <td>0.000000</td>\n",
       "      <td>0.000000</td>\n",
       "      <td>0.000000</td>\n",
       "      <td>0.0</td>\n",
       "      <td>0.000000</td>\n",
       "      <td>0.000000</td>\n",
       "      <td>0.000000</td>\n",
       "      <td>0.0</td>\n",
       "    </tr>\n",
       "    <tr>\n",
       "      <th>2</th>\n",
       "      <td>pull-up</td>\n",
       "      <td>0.456565</td>\n",
       "      <td>0.513497</td>\n",
       "      <td>-0.662822</td>\n",
       "      <td>0.999962</td>\n",
       "      <td>0.451749</td>\n",
       "      <td>0.514782</td>\n",
       "      <td>-0.667248</td>\n",
       "      <td>0.999963</td>\n",
       "      <td>0.449553</td>\n",
       "      <td>...</td>\n",
       "      <td>0.000000</td>\n",
       "      <td>0.0</td>\n",
       "      <td>0.000000</td>\n",
       "      <td>0.000000</td>\n",
       "      <td>0.000000</td>\n",
       "      <td>0.0</td>\n",
       "      <td>0.000000</td>\n",
       "      <td>0.000000</td>\n",
       "      <td>0.000000</td>\n",
       "      <td>0.0</td>\n",
       "    </tr>\n",
       "    <tr>\n",
       "      <th>3</th>\n",
       "      <td>pull-up</td>\n",
       "      <td>0.457030</td>\n",
       "      <td>0.511387</td>\n",
       "      <td>-0.660776</td>\n",
       "      <td>0.999965</td>\n",
       "      <td>0.452143</td>\n",
       "      <td>0.511066</td>\n",
       "      <td>-0.669083</td>\n",
       "      <td>0.999966</td>\n",
       "      <td>0.449536</td>\n",
       "      <td>...</td>\n",
       "      <td>0.000000</td>\n",
       "      <td>0.0</td>\n",
       "      <td>0.000000</td>\n",
       "      <td>0.000000</td>\n",
       "      <td>0.000000</td>\n",
       "      <td>0.0</td>\n",
       "      <td>0.000000</td>\n",
       "      <td>0.000000</td>\n",
       "      <td>0.000000</td>\n",
       "      <td>0.0</td>\n",
       "    </tr>\n",
       "    <tr>\n",
       "      <th>4</th>\n",
       "      <td>pull-up</td>\n",
       "      <td>0.457069</td>\n",
       "      <td>0.507577</td>\n",
       "      <td>-0.635600</td>\n",
       "      <td>0.999966</td>\n",
       "      <td>0.452206</td>\n",
       "      <td>0.509146</td>\n",
       "      <td>-0.643832</td>\n",
       "      <td>0.999968</td>\n",
       "      <td>0.449553</td>\n",
       "      <td>...</td>\n",
       "      <td>0.000000</td>\n",
       "      <td>0.0</td>\n",
       "      <td>0.000000</td>\n",
       "      <td>0.000000</td>\n",
       "      <td>0.000000</td>\n",
       "      <td>0.0</td>\n",
       "      <td>0.000000</td>\n",
       "      <td>0.000000</td>\n",
       "      <td>0.000000</td>\n",
       "      <td>0.0</td>\n",
       "    </tr>\n",
       "    <tr>\n",
       "      <th>...</th>\n",
       "      <td>...</td>\n",
       "      <td>...</td>\n",
       "      <td>...</td>\n",
       "      <td>...</td>\n",
       "      <td>...</td>\n",
       "      <td>...</td>\n",
       "      <td>...</td>\n",
       "      <td>...</td>\n",
       "      <td>...</td>\n",
       "      <td>...</td>\n",
       "      <td>...</td>\n",
       "      <td>...</td>\n",
       "      <td>...</td>\n",
       "      <td>...</td>\n",
       "      <td>...</td>\n",
       "      <td>...</td>\n",
       "      <td>...</td>\n",
       "      <td>...</td>\n",
       "      <td>...</td>\n",
       "      <td>...</td>\n",
       "      <td>...</td>\n",
       "    </tr>\n",
       "    <tr>\n",
       "      <th>24253</th>\n",
       "      <td>t_pose</td>\n",
       "      <td>0.513963</td>\n",
       "      <td>0.134228</td>\n",
       "      <td>-0.252745</td>\n",
       "      <td>0.994912</td>\n",
       "      <td>0.517080</td>\n",
       "      <td>0.121628</td>\n",
       "      <td>-0.229720</td>\n",
       "      <td>0.993884</td>\n",
       "      <td>0.520571</td>\n",
       "      <td>...</td>\n",
       "      <td>0.000000</td>\n",
       "      <td>0.0</td>\n",
       "      <td>0.000000</td>\n",
       "      <td>0.000000</td>\n",
       "      <td>0.000000</td>\n",
       "      <td>0.0</td>\n",
       "      <td>0.000000</td>\n",
       "      <td>0.000000</td>\n",
       "      <td>0.000000</td>\n",
       "      <td>0.0</td>\n",
       "    </tr>\n",
       "    <tr>\n",
       "      <th>24254</th>\n",
       "      <td>t_pose</td>\n",
       "      <td>0.523934</td>\n",
       "      <td>0.118418</td>\n",
       "      <td>-0.229812</td>\n",
       "      <td>0.995420</td>\n",
       "      <td>0.523464</td>\n",
       "      <td>0.103836</td>\n",
       "      <td>-0.195756</td>\n",
       "      <td>0.994495</td>\n",
       "      <td>0.525495</td>\n",
       "      <td>...</td>\n",
       "      <td>0.002717</td>\n",
       "      <td>0.0</td>\n",
       "      <td>0.526031</td>\n",
       "      <td>0.105394</td>\n",
       "      <td>0.016314</td>\n",
       "      <td>0.0</td>\n",
       "      <td>0.526323</td>\n",
       "      <td>0.103855</td>\n",
       "      <td>0.017355</td>\n",
       "      <td>0.0</td>\n",
       "    </tr>\n",
       "    <tr>\n",
       "      <th>24255</th>\n",
       "      <td>t_pose</td>\n",
       "      <td>0.499595</td>\n",
       "      <td>0.229441</td>\n",
       "      <td>0.193735</td>\n",
       "      <td>0.995873</td>\n",
       "      <td>0.486559</td>\n",
       "      <td>0.213212</td>\n",
       "      <td>0.167615</td>\n",
       "      <td>0.995038</td>\n",
       "      <td>0.480210</td>\n",
       "      <td>...</td>\n",
       "      <td>0.000000</td>\n",
       "      <td>0.0</td>\n",
       "      <td>0.000000</td>\n",
       "      <td>0.000000</td>\n",
       "      <td>0.000000</td>\n",
       "      <td>0.0</td>\n",
       "      <td>0.000000</td>\n",
       "      <td>0.000000</td>\n",
       "      <td>0.000000</td>\n",
       "      <td>0.0</td>\n",
       "    </tr>\n",
       "    <tr>\n",
       "      <th>24256</th>\n",
       "      <td>t_pose</td>\n",
       "      <td>0.505574</td>\n",
       "      <td>0.127902</td>\n",
       "      <td>-0.303131</td>\n",
       "      <td>0.996282</td>\n",
       "      <td>0.511041</td>\n",
       "      <td>0.107321</td>\n",
       "      <td>-0.292557</td>\n",
       "      <td>0.995515</td>\n",
       "      <td>0.514666</td>\n",
       "      <td>...</td>\n",
       "      <td>0.000000</td>\n",
       "      <td>0.0</td>\n",
       "      <td>0.000000</td>\n",
       "      <td>0.000000</td>\n",
       "      <td>0.000000</td>\n",
       "      <td>0.0</td>\n",
       "      <td>0.000000</td>\n",
       "      <td>0.000000</td>\n",
       "      <td>0.000000</td>\n",
       "      <td>0.0</td>\n",
       "    </tr>\n",
       "    <tr>\n",
       "      <th>24257</th>\n",
       "      <td>t_pose</td>\n",
       "      <td>0.509659</td>\n",
       "      <td>0.097435</td>\n",
       "      <td>-0.555432</td>\n",
       "      <td>0.996651</td>\n",
       "      <td>0.518216</td>\n",
       "      <td>0.080958</td>\n",
       "      <td>-0.517113</td>\n",
       "      <td>0.995947</td>\n",
       "      <td>0.524325</td>\n",
       "      <td>...</td>\n",
       "      <td>0.000776</td>\n",
       "      <td>0.0</td>\n",
       "      <td>0.526380</td>\n",
       "      <td>0.064750</td>\n",
       "      <td>0.008849</td>\n",
       "      <td>0.0</td>\n",
       "      <td>0.528660</td>\n",
       "      <td>0.062267</td>\n",
       "      <td>0.009233</td>\n",
       "      <td>0.0</td>\n",
       "    </tr>\n",
       "  </tbody>\n",
       "</table>\n",
       "<p>24258 rows × 2005 columns</p>\n",
       "</div>"
      ],
      "text/plain": [
       "         class        x1        y1        z1        v1        x2        y2  \\\n",
       "0      pull-up  0.456191  0.531645 -0.556522  0.999973  0.447566  0.529380   \n",
       "1      pull-up  0.456181  0.519706 -0.619696  0.999959  0.450016  0.518875   \n",
       "2      pull-up  0.456565  0.513497 -0.662822  0.999962  0.451749  0.514782   \n",
       "3      pull-up  0.457030  0.511387 -0.660776  0.999965  0.452143  0.511066   \n",
       "4      pull-up  0.457069  0.507577 -0.635600  0.999966  0.452206  0.509146   \n",
       "...        ...       ...       ...       ...       ...       ...       ...   \n",
       "24253   t_pose  0.513963  0.134228 -0.252745  0.994912  0.517080  0.121628   \n",
       "24254   t_pose  0.523934  0.118418 -0.229812  0.995420  0.523464  0.103836   \n",
       "24255   t_pose  0.499595  0.229441  0.193735  0.995873  0.486559  0.213212   \n",
       "24256   t_pose  0.505574  0.127902 -0.303131  0.996282  0.511041  0.107321   \n",
       "24257   t_pose  0.509659  0.097435 -0.555432  0.996651  0.518216  0.080958   \n",
       "\n",
       "             z2        v2        x3  ...      z499  v499      x500      y500  \\\n",
       "0     -0.566028  0.999973  0.443536  ...  0.000000   0.0  0.000000  0.000000   \n",
       "1     -0.625350  0.999960  0.447758  ...  0.000000   0.0  0.000000  0.000000   \n",
       "2     -0.667248  0.999963  0.449553  ...  0.000000   0.0  0.000000  0.000000   \n",
       "3     -0.669083  0.999966  0.449536  ...  0.000000   0.0  0.000000  0.000000   \n",
       "4     -0.643832  0.999968  0.449553  ...  0.000000   0.0  0.000000  0.000000   \n",
       "...         ...       ...       ...  ...       ...   ...       ...       ...   \n",
       "24253 -0.229720  0.993884  0.520571  ...  0.000000   0.0  0.000000  0.000000   \n",
       "24254 -0.195756  0.994495  0.525495  ...  0.002717   0.0  0.526031  0.105394   \n",
       "24255  0.167615  0.995038  0.480210  ...  0.000000   0.0  0.000000  0.000000   \n",
       "24256 -0.292557  0.995515  0.514666  ...  0.000000   0.0  0.000000  0.000000   \n",
       "24257 -0.517113  0.995947  0.524325  ...  0.000776   0.0  0.526380  0.064750   \n",
       "\n",
       "           z500  v500      x501      y501      z501  v501  \n",
       "0      0.000000   0.0  0.000000  0.000000  0.000000   0.0  \n",
       "1      0.000000   0.0  0.000000  0.000000  0.000000   0.0  \n",
       "2      0.000000   0.0  0.000000  0.000000  0.000000   0.0  \n",
       "3      0.000000   0.0  0.000000  0.000000  0.000000   0.0  \n",
       "4      0.000000   0.0  0.000000  0.000000  0.000000   0.0  \n",
       "...         ...   ...       ...       ...       ...   ...  \n",
       "24253  0.000000   0.0  0.000000  0.000000  0.000000   0.0  \n",
       "24254  0.016314   0.0  0.526323  0.103855  0.017355   0.0  \n",
       "24255  0.000000   0.0  0.000000  0.000000  0.000000   0.0  \n",
       "24256  0.000000   0.0  0.000000  0.000000  0.000000   0.0  \n",
       "24257  0.008849   0.0  0.528660  0.062267  0.009233   0.0  \n",
       "\n",
       "[24258 rows x 2005 columns]"
      ]
     },
     "execution_count": 166,
     "metadata": {},
     "output_type": "execute_result"
    }
   ],
   "source": [
    "data"
   ]
  },
  {
   "cell_type": "code",
   "execution_count": null,
   "metadata": {},
   "outputs": [
    {
     "data": {
      "text/plain": [
       "pull-up     8068\n",
       "standing    6475\n",
       "seated      4482\n",
       "push-up     2724\n",
       "t_pose      1352\n",
       "punching    1157\n",
       "Name: class, dtype: int64"
      ]
     },
     "execution_count": 167,
     "metadata": {},
     "output_type": "execute_result"
    }
   ],
   "source": [
    "data['class'].value_counts()"
   ]
  },
  {
   "cell_type": "code",
   "execution_count": null,
   "metadata": {},
   "outputs": [],
   "source": [
    "from sklearn import preprocessing\n",
    "\n",
    "\n",
    "le = preprocessing.LabelEncoder()"
   ]
  },
  {
   "cell_type": "code",
   "execution_count": null,
   "metadata": {},
   "outputs": [
    {
     "name": "stderr",
     "output_type": "stream",
     "text": [
      "C:\\Users\\victo\\AppData\\Local\\Temp\\ipykernel_35900\\1370832270.py:1: SettingWithCopyWarning: \n",
      "A value is trying to be set on a copy of a slice from a DataFrame.\n",
      "Try using .loc[row_indexer,col_indexer] = value instead\n",
      "\n",
      "See the caveats in the documentation: https://pandas.pydata.org/pandas-docs/stable/user_guide/indexing.html#returning-a-view-versus-a-copy\n",
      "  data['class'] = le.fit_transform(data['class'])\n"
     ]
    }
   ],
   "source": [
    "data['class'] = le.fit_transform(data['class'])"
   ]
  },
  {
   "cell_type": "code",
   "execution_count": null,
   "metadata": {},
   "outputs": [
    {
     "data": {
      "text/plain": [
       "array(['salute', 't_pose'], dtype=object)"
      ]
     },
     "execution_count": 152,
     "metadata": {},
     "output_type": "execute_result"
    }
   ],
   "source": [
    "le.classes_"
   ]
  },
  {
   "cell_type": "code",
   "execution_count": null,
   "metadata": {},
   "outputs": [],
   "source": [
    "n_inputs, n_outputs = X.shape[1], y.shape[1]"
   ]
  },
  {
   "cell_type": "code",
   "execution_count": null,
   "metadata": {},
   "outputs": [],
   "source": [
    "X = data.iloc[:, 1:]\n",
    "y = data.iloc[:, :1]\n",
    "\n",
    "X_train, X_test, y_train, y_test = train_test_split(X, y, train_size=0.1, random_state=40)"
   ]
  },
  {
   "cell_type": "code",
   "execution_count": null,
   "metadata": {},
   "outputs": [],
   "source": [
    "from xgboost import XGBClassifier\n",
    "\n",
    "\n",
    "xgb = XGBClassifier(n_estimators = 1000)"
   ]
  },
  {
   "cell_type": "code",
   "execution_count": null,
   "metadata": {},
   "outputs": [
    {
     "data": {
      "text/html": [
       "<style>#sk-container-id-2 {color: black;background-color: white;}#sk-container-id-2 pre{padding: 0;}#sk-container-id-2 div.sk-toggleable {background-color: white;}#sk-container-id-2 label.sk-toggleable__label {cursor: pointer;display: block;width: 100%;margin-bottom: 0;padding: 0.3em;box-sizing: border-box;text-align: center;}#sk-container-id-2 label.sk-toggleable__label-arrow:before {content: \"▸\";float: left;margin-right: 0.25em;color: #696969;}#sk-container-id-2 label.sk-toggleable__label-arrow:hover:before {color: black;}#sk-container-id-2 div.sk-estimator:hover label.sk-toggleable__label-arrow:before {color: black;}#sk-container-id-2 div.sk-toggleable__content {max-height: 0;max-width: 0;overflow: hidden;text-align: left;background-color: #f0f8ff;}#sk-container-id-2 div.sk-toggleable__content pre {margin: 0.2em;color: black;border-radius: 0.25em;background-color: #f0f8ff;}#sk-container-id-2 input.sk-toggleable__control:checked~div.sk-toggleable__content {max-height: 200px;max-width: 100%;overflow: auto;}#sk-container-id-2 input.sk-toggleable__control:checked~label.sk-toggleable__label-arrow:before {content: \"▾\";}#sk-container-id-2 div.sk-estimator input.sk-toggleable__control:checked~label.sk-toggleable__label {background-color: #d4ebff;}#sk-container-id-2 div.sk-label input.sk-toggleable__control:checked~label.sk-toggleable__label {background-color: #d4ebff;}#sk-container-id-2 input.sk-hidden--visually {border: 0;clip: rect(1px 1px 1px 1px);clip: rect(1px, 1px, 1px, 1px);height: 1px;margin: -1px;overflow: hidden;padding: 0;position: absolute;width: 1px;}#sk-container-id-2 div.sk-estimator {font-family: monospace;background-color: #f0f8ff;border: 1px dotted black;border-radius: 0.25em;box-sizing: border-box;margin-bottom: 0.5em;}#sk-container-id-2 div.sk-estimator:hover {background-color: #d4ebff;}#sk-container-id-2 div.sk-parallel-item::after {content: \"\";width: 100%;border-bottom: 1px solid gray;flex-grow: 1;}#sk-container-id-2 div.sk-label:hover label.sk-toggleable__label {background-color: #d4ebff;}#sk-container-id-2 div.sk-serial::before {content: \"\";position: absolute;border-left: 1px solid gray;box-sizing: border-box;top: 0;bottom: 0;left: 50%;z-index: 0;}#sk-container-id-2 div.sk-serial {display: flex;flex-direction: column;align-items: center;background-color: white;padding-right: 0.2em;padding-left: 0.2em;position: relative;}#sk-container-id-2 div.sk-item {position: relative;z-index: 1;}#sk-container-id-2 div.sk-parallel {display: flex;align-items: stretch;justify-content: center;background-color: white;position: relative;}#sk-container-id-2 div.sk-item::before, #sk-container-id-2 div.sk-parallel-item::before {content: \"\";position: absolute;border-left: 1px solid gray;box-sizing: border-box;top: 0;bottom: 0;left: 50%;z-index: -1;}#sk-container-id-2 div.sk-parallel-item {display: flex;flex-direction: column;z-index: 1;position: relative;background-color: white;}#sk-container-id-2 div.sk-parallel-item:first-child::after {align-self: flex-end;width: 50%;}#sk-container-id-2 div.sk-parallel-item:last-child::after {align-self: flex-start;width: 50%;}#sk-container-id-2 div.sk-parallel-item:only-child::after {width: 0;}#sk-container-id-2 div.sk-dashed-wrapped {border: 1px dashed gray;margin: 0 0.4em 0.5em 0.4em;box-sizing: border-box;padding-bottom: 0.4em;background-color: white;}#sk-container-id-2 div.sk-label label {font-family: monospace;font-weight: bold;display: inline-block;line-height: 1.2em;}#sk-container-id-2 div.sk-label-container {text-align: center;}#sk-container-id-2 div.sk-container {/* jupyter's `normalize.less` sets `[hidden] { display: none; }` but bootstrap.min.css set `[hidden] { display: none !important; }` so we also need the `!important` here to be able to override the default hidden behavior on the sphinx rendered scikit-learn.org. See: https://github.com/scikit-learn/scikit-learn/issues/21755 */display: inline-block !important;position: relative;}#sk-container-id-2 div.sk-text-repr-fallback {display: none;}</style><div id=\"sk-container-id-2\" class=\"sk-top-container\"><div class=\"sk-text-repr-fallback\"><pre>XGBClassifier(base_score=0.5, booster=&#x27;gbtree&#x27;, callbacks=None,\n",
       "              colsample_bylevel=1, colsample_bynode=1, colsample_bytree=1,\n",
       "              early_stopping_rounds=None, enable_categorical=False,\n",
       "              eval_metric=None, gamma=0, gpu_id=-1, grow_policy=&#x27;depthwise&#x27;,\n",
       "              importance_type=None, interaction_constraints=&#x27;&#x27;,\n",
       "              learning_rate=0.300000012, max_bin=256, max_cat_to_onehot=4,\n",
       "              max_delta_step=0, max_depth=6, max_leaves=0, min_child_weight=1,\n",
       "              missing=nan, monotone_constraints=&#x27;()&#x27;, n_estimators=1000,\n",
       "              n_jobs=0, num_parallel_tree=1, objective=&#x27;multi:softprob&#x27;,\n",
       "              predictor=&#x27;auto&#x27;, random_state=0, reg_alpha=0, ...)</pre><b>In a Jupyter environment, please rerun this cell to show the HTML representation or trust the notebook. <br />On GitHub, the HTML representation is unable to render, please try loading this page with nbviewer.org.</b></div><div class=\"sk-container\" hidden><div class=\"sk-item\"><div class=\"sk-estimator sk-toggleable\"><input class=\"sk-toggleable__control sk-hidden--visually\" id=\"sk-estimator-id-2\" type=\"checkbox\" checked><label for=\"sk-estimator-id-2\" class=\"sk-toggleable__label sk-toggleable__label-arrow\">XGBClassifier</label><div class=\"sk-toggleable__content\"><pre>XGBClassifier(base_score=0.5, booster=&#x27;gbtree&#x27;, callbacks=None,\n",
       "              colsample_bylevel=1, colsample_bynode=1, colsample_bytree=1,\n",
       "              early_stopping_rounds=None, enable_categorical=False,\n",
       "              eval_metric=None, gamma=0, gpu_id=-1, grow_policy=&#x27;depthwise&#x27;,\n",
       "              importance_type=None, interaction_constraints=&#x27;&#x27;,\n",
       "              learning_rate=0.300000012, max_bin=256, max_cat_to_onehot=4,\n",
       "              max_delta_step=0, max_depth=6, max_leaves=0, min_child_weight=1,\n",
       "              missing=nan, monotone_constraints=&#x27;()&#x27;, n_estimators=1000,\n",
       "              n_jobs=0, num_parallel_tree=1, objective=&#x27;multi:softprob&#x27;,\n",
       "              predictor=&#x27;auto&#x27;, random_state=0, reg_alpha=0, ...)</pre></div></div></div></div></div>"
      ],
      "text/plain": [
       "XGBClassifier(base_score=0.5, booster='gbtree', callbacks=None,\n",
       "              colsample_bylevel=1, colsample_bynode=1, colsample_bytree=1,\n",
       "              early_stopping_rounds=None, enable_categorical=False,\n",
       "              eval_metric=None, gamma=0, gpu_id=-1, grow_policy='depthwise',\n",
       "              importance_type=None, interaction_constraints='',\n",
       "              learning_rate=0.300000012, max_bin=256, max_cat_to_onehot=4,\n",
       "              max_delta_step=0, max_depth=6, max_leaves=0, min_child_weight=1,\n",
       "              missing=nan, monotone_constraints='()', n_estimators=1000,\n",
       "              n_jobs=0, num_parallel_tree=1, objective='multi:softprob',\n",
       "              predictor='auto', random_state=0, reg_alpha=0, ...)"
      ]
     },
     "execution_count": 54,
     "metadata": {},
     "output_type": "execute_result"
    }
   ],
   "source": [
    "xgb.fit(X_train, y_train)"
   ]
  },
  {
   "cell_type": "code",
   "execution_count": null,
   "metadata": {},
   "outputs": [],
   "source": [
    "predicted = xgb.predict(X_test)"
   ]
  },
  {
   "cell_type": "code",
   "execution_count": null,
   "metadata": {},
   "outputs": [
    {
     "data": {
      "text/plain": [
       "0.9362851605112147"
      ]
     },
     "execution_count": 56,
     "metadata": {},
     "output_type": "execute_result"
    }
   ],
   "source": [
    "from sklearn.metrics import f1_score\n",
    "\n",
    "\n",
    "f1_score(predicted,y_test, average='macro')"
   ]
  },
  {
   "cell_type": "markdown",
   "metadata": {},
   "source": [
    "from vid"
   ]
  },
  {
   "cell_type": "code",
   "execution_count": null,
   "metadata": {},
   "outputs": [],
   "source": [
    "from sklearn.pipeline import make_pipeline \n",
    "from sklearn.preprocessing import StandardScaler \n",
    "\n",
    "from sklearn.linear_model import LogisticRegression, RidgeClassifier\n",
    "from sklearn.ensemble import RandomForestClassifier, GradientBoostingClassifier"
   ]
  },
  {
   "cell_type": "code",
   "execution_count": null,
   "metadata": {},
   "outputs": [],
   "source": [
    "pipelines = {\n",
    "    'lr':make_pipeline(StandardScaler(), LogisticRegression()),\n",
    "    'rc':make_pipeline(StandardScaler(), RidgeClassifier()),\n",
    "    'rf':make_pipeline(StandardScaler(), RandomForestClassifier()),\n",
    "    'gb':make_pipeline(StandardScaler(), GradientBoostingClassifier()),\n",
    "}"
   ]
  },
  {
   "cell_type": "code",
   "execution_count": null,
   "metadata": {},
   "outputs": [
    {
     "name": "stderr",
     "output_type": "stream",
     "text": [
      "c:\\Users\\victo\\anaconda3\\envs\\dev\\lib\\site-packages\\sklearn\\utils\\validation.py:1111: DataConversionWarning: A column-vector y was passed when a 1d array was expected. Please change the shape of y to (n_samples, ), for example using ravel().\n",
      "  y = column_or_1d(y, warn=True)\n",
      "c:\\Users\\victo\\anaconda3\\envs\\dev\\lib\\site-packages\\sklearn\\linear_model\\_logistic.py:444: ConvergenceWarning: lbfgs failed to converge (status=1):\n",
      "STOP: TOTAL NO. of ITERATIONS REACHED LIMIT.\n",
      "\n",
      "Increase the number of iterations (max_iter) or scale the data as shown in:\n",
      "    https://scikit-learn.org/stable/modules/preprocessing.html\n",
      "Please also refer to the documentation for alternative solver options:\n",
      "    https://scikit-learn.org/stable/modules/linear_model.html#logistic-regression\n",
      "  n_iter_i = _check_optimize_result(\n",
      "c:\\Users\\victo\\anaconda3\\envs\\dev\\lib\\site-packages\\sklearn\\linear_model\\_ridge.py:1178: DataConversionWarning: A column-vector y was passed when a 1d array was expected. Please change the shape of y to (n_samples, ), for example using ravel().\n",
      "  y = column_or_1d(y, warn=True)\n",
      "c:\\Users\\victo\\anaconda3\\envs\\dev\\lib\\site-packages\\sklearn\\pipeline.py:382: DataConversionWarning: A column-vector y was passed when a 1d array was expected. Please change the shape of y to (n_samples,), for example using ravel().\n",
      "  self._final_estimator.fit(Xt, y, **fit_params_last_step)\n",
      "c:\\Users\\victo\\anaconda3\\envs\\dev\\lib\\site-packages\\sklearn\\ensemble\\_gb.py:570: DataConversionWarning: A column-vector y was passed when a 1d array was expected. Please change the shape of y to (n_samples, ), for example using ravel().\n",
      "  y = column_or_1d(y, warn=True)\n"
     ]
    }
   ],
   "source": [
    "fit_models = {}\n",
    "for algo, pipeline in pipelines.items():\n",
    "    model = pipeline.fit(X_train, y_train)\n",
    "    fit_models[algo] = model"
   ]
  },
  {
   "cell_type": "code",
   "execution_count": null,
   "metadata": {},
   "outputs": [
    {
     "name": "stdout",
     "output_type": "stream",
     "text": [
      "0.9835738792260814\n",
      "0.9958046648654854\n",
      "0.9841166205735289\n",
      "0.979246917698053\n"
     ]
    }
   ],
   "source": [
    "out = fit_models['rc'].predict(X_test)\n",
    "\n",
    "for i in fit_models:\n",
    "    out = fit_models[i].predict(X_test)\n",
    "    print(f1_score(out,y_test, average='macro'))"
   ]
  },
  {
   "cell_type": "markdown",
   "metadata": {},
   "source": [
    "Predict and Show"
   ]
  },
  {
   "cell_type": "code",
   "execution_count": null,
   "metadata": {},
   "outputs": [],
   "source": [
    "holistic = mp_holistic.Holistic(min_detection_confidence=0.5, min_tracking_confidence=0.5)\n",
    "    \n",
    "#0 for webcam\n",
    "#1 for default video\n",
    "path_to_file = 'gestures/testing/airsquat-wild.mp4'\n",
    "capture = request_capture(1, path_to_file)\n",
    "pTime = 0\n",
    "while(1):\n",
    "    ret , frame = capture.read()\n",
    "\n",
    "    try:\n",
    "        #mpPose processa cada frame no formato RGB\n",
    "        frameRGB = cv2.cvtColor(frame,cv2.COLOR_RGB2BGR)\n",
    "        results = holistic.process(frameRGB)\n",
    "\n",
    "        #R_landmark = results.pose_landmarks\n",
    "\n",
    "        cTime = time.time()\n",
    "        \n",
    "        landmmark_work(results, mpPose, mpDraw, mp_holistic, frame)\n",
    "        \n",
    "        fps = 1/(cTime - pTime)\n",
    "        pTime = cTime\n",
    "\n",
    "        cv2.putText(frame, str(int(fps)), (60,60), cv2.FONT_HERSHEY_PLAIN, 3, (250,0,90),3)\n",
    "        \n",
    "\n",
    "        try:\n",
    "            # Extract Pose landmarks\n",
    "            pose = results.pose_landmarks.landmark\n",
    "            pose_row = list(np.array([[landmark.x, landmark.y, landmark.z, landmark.visibility] for landmark in pose]).flatten())\n",
    "            \n",
    "            # Extract Face landmarks\n",
    "            if(results.face_landmarks):\n",
    "                face = results.face_landmarks.landmark\n",
    "                face_row = list(np.array([[landmark.x, landmark.y, landmark.z, landmark.visibility] for landmark in face]).flatten())\n",
    "            else:\n",
    "                face_row = list(np.zeros(468*4).flatten())\n",
    "            # Concate rows\n",
    "            \n",
    "            row = pose_row+face_row\n",
    "\n",
    "\n",
    "            \n",
    "            X = np.array(row).reshape(1,-1)\n",
    "            body_language_class = le.inverse_transform(xgb.predict(X))\n",
    "            body_language_prob = xgb.predict_proba(X)\n",
    "            #print(body_language_class, body_language_prob)\n",
    "\n",
    "            \n",
    "            # Get status box\n",
    "            #cv2.rectangle(frame, (100,100), (250, 60), (245, 117, 16), -1)\n",
    "            \n",
    "            # Display Class\n",
    "            cv2.putText(frame, 'CLASS'\n",
    "                        , (120,140), cv2.FONT_HERSHEY_SIMPLEX, 0.5, (0, 0, 0), 1, cv2.LINE_AA)\n",
    "            cv2.putText(frame, body_language_class[0]\n",
    "                        , (130,168), cv2.FONT_HERSHEY_SIMPLEX, 1, (255, 0, 233), 2, cv2.LINE_AA)\n",
    "            \n",
    "            # Display Probability\n",
    "            cv2.putText(frame, 'PROB'\n",
    "                        , (300,12), cv2.FONT_HERSHEY_SIMPLEX, 0.5, (0, 0, 0), 1, cv2.LINE_AA)\n",
    "            cv2.putText(frame, str(round(body_language_prob.max(),2))\n",
    "                        , (300,40), cv2.FONT_HERSHEY_SIMPLEX, 1, (255, 0, 233), 2, cv2.LINE_AA)\n",
    "        except:\n",
    "            pass\n",
    "\n",
    "    except:\n",
    "        pass\n",
    "\n",
    "    cv2.imshow(\"Video\", frame)\n",
    "\n",
    "    k = cv2.waitKey(5) & 0xff\n",
    "    if k == 27:\n",
    "        break\n",
    "\n",
    "capture.release()\n",
    "cv2.destroyAllWindows()"
   ]
  },
  {
   "cell_type": "code",
   "execution_count": null,
   "metadata": {},
   "outputs": [
    {
     "data": {
      "text/plain": [
       "array([ 0.51385081,  0.44113106, -1.17197299, ...,  0.37191319,\n",
       "        0.03729007,  0.        ])"
      ]
     },
     "execution_count": 40,
     "metadata": {},
     "output_type": "execute_result"
    }
   ],
   "source": [
    "np.array(row).reshape(1,-1)[0]"
   ]
  },
  {
   "cell_type": "code",
   "execution_count": null,
   "metadata": {},
   "outputs": [
    {
     "data": {
      "text/plain": [
       "'cross'"
      ]
     },
     "execution_count": 56,
     "metadata": {},
     "output_type": "execute_result"
    }
   ],
   "source": [
    "body_language_class[0]"
   ]
  },
  {
   "cell_type": "code",
   "execution_count": null,
   "metadata": {},
   "outputs": [
    {
     "data": {
      "text/plain": [
       "0.43646085"
      ]
     },
     "execution_count": 53,
     "metadata": {},
     "output_type": "execute_result"
    }
   ],
   "source": [
    "body_language_prob.max()"
   ]
  },
  {
   "cell_type": "code",
   "execution_count": null,
   "metadata": {},
   "outputs": [
    {
     "data": {
      "text/html": [
       "<div>\n",
       "<style scoped>\n",
       "    .dataframe tbody tr th:only-of-type {\n",
       "        vertical-align: middle;\n",
       "    }\n",
       "\n",
       "    .dataframe tbody tr th {\n",
       "        vertical-align: top;\n",
       "    }\n",
       "\n",
       "    .dataframe thead th {\n",
       "        text-align: right;\n",
       "    }\n",
       "</style>\n",
       "<table border=\"1\" class=\"dataframe\">\n",
       "  <thead>\n",
       "    <tr style=\"text-align: right;\">\n",
       "      <th></th>\n",
       "      <th>x1</th>\n",
       "      <th>y1</th>\n",
       "      <th>z1</th>\n",
       "      <th>v1</th>\n",
       "      <th>x2</th>\n",
       "      <th>y2</th>\n",
       "      <th>z2</th>\n",
       "      <th>v2</th>\n",
       "      <th>x3</th>\n",
       "      <th>y3</th>\n",
       "      <th>...</th>\n",
       "      <th>z499</th>\n",
       "      <th>v499</th>\n",
       "      <th>x500</th>\n",
       "      <th>y500</th>\n",
       "      <th>z500</th>\n",
       "      <th>v500</th>\n",
       "      <th>x501</th>\n",
       "      <th>y501</th>\n",
       "      <th>z501</th>\n",
       "      <th>v501</th>\n",
       "    </tr>\n",
       "  </thead>\n",
       "  <tbody>\n",
       "    <tr>\n",
       "      <th>431</th>\n",
       "      <td>0.613151</td>\n",
       "      <td>0.323376</td>\n",
       "      <td>-0.863807</td>\n",
       "      <td>0.999949</td>\n",
       "      <td>0.638241</td>\n",
       "      <td>0.280118</td>\n",
       "      <td>-0.788851</td>\n",
       "      <td>0.999919</td>\n",
       "      <td>0.652348</td>\n",
       "      <td>0.282709</td>\n",
       "      <td>...</td>\n",
       "      <td>0.006362</td>\n",
       "      <td>0.0</td>\n",
       "      <td>0.649286</td>\n",
       "      <td>0.283245</td>\n",
       "      <td>0.022695</td>\n",
       "      <td>0.0</td>\n",
       "      <td>0.653343</td>\n",
       "      <td>0.280082</td>\n",
       "      <td>0.023166</td>\n",
       "      <td>0.0</td>\n",
       "    </tr>\n",
       "  </tbody>\n",
       "</table>\n",
       "<p>1 rows × 2004 columns</p>\n",
       "</div>"
      ],
      "text/plain": [
       "           x1        y1        z1        v1        x2        y2        z2  \\\n",
       "431  0.613151  0.323376 -0.863807  0.999949  0.638241  0.280118 -0.788851   \n",
       "\n",
       "           v2        x3        y3  ...      z499  v499      x500      y500  \\\n",
       "431  0.999919  0.652348  0.282709  ...  0.006362   0.0  0.649286  0.283245   \n",
       "\n",
       "         z500  v500      x501      y501      z501  v501  \n",
       "431  0.022695   0.0  0.653343  0.280082  0.023166   0.0  \n",
       "\n",
       "[1 rows x 2004 columns]"
      ]
     },
     "execution_count": 204,
     "metadata": {},
     "output_type": "execute_result"
    }
   ],
   "source": [
    "X_test[:1]"
   ]
  },
  {
   "cell_type": "code",
   "execution_count": null,
   "metadata": {},
   "outputs": [
    {
     "data": {
      "text/plain": [
       "(2004,)"
      ]
     },
     "execution_count": 213,
     "metadata": {},
     "output_type": "execute_result"
    }
   ],
   "source": [
    "np.array(row).shape"
   ]
  },
  {
   "cell_type": "code",
   "execution_count": null,
   "metadata": {},
   "outputs": [
    {
     "data": {
      "text/plain": [
       "array([[ 0.57147515,  0.3097128 , -1.16323829, ...,  0.24264657,\n",
       "         0.0232226 ,  0.        ]])"
      ]
     },
     "execution_count": 217,
     "metadata": {},
     "output_type": "execute_result"
    }
   ],
   "source": [
    "np.array(row).reshape(1,-1)"
   ]
  },
  {
   "cell_type": "code",
   "execution_count": null,
   "metadata": {},
   "outputs": [],
   "source": [
    "dir = './gestures'\n",
    "sub_dir = [name for name in os.listdir(dir) if os.path.isdir(os.path.join(dir, name))]"
   ]
  },
  {
   "cell_type": "code",
   "execution_count": null,
   "metadata": {},
   "outputs": [
    {
     "data": {
      "text/plain": [
       "['physical', 'testing']"
      ]
     },
     "execution_count": 6,
     "metadata": {},
     "output_type": "execute_result"
    }
   ],
   "source": [
    "sub_dir"
   ]
  },
  {
   "cell_type": "code",
   "execution_count": null,
   "metadata": {},
   "outputs": [
    {
     "data": {
      "text/plain": [
       "'./gestures/physical'"
      ]
     },
     "execution_count": 15,
     "metadata": {},
     "output_type": "execute_result"
    }
   ],
   "source": [
    "new_path = dir+'/'+sub_dir[0]\n",
    "new_path"
   ]
  },
  {
   "cell_type": "code",
   "execution_count": null,
   "metadata": {},
   "outputs": [
    {
     "data": {
      "text/plain": [
       "['air-squat.mp4',\n",
       " 'airsquat.mp4',\n",
       " 'fighting1.mp4',\n",
       " 'fighting2.mp4',\n",
       " 'jumping-jack.mp4',\n",
       " 'push-up.mp4']"
      ]
     },
     "execution_count": 18,
     "metadata": {},
     "output_type": "execute_result"
    }
   ],
   "source": [
    "files = [name for name in os.listdir(new_path) if os.path.isfile((os.path.join(new_path, name)))]\n",
    "files"
   ]
  },
  {
   "cell_type": "code",
   "execution_count": null,
   "metadata": {},
   "outputs": [
    {
     "data": {
      "text/plain": [
       "'./gestures/physical/air-squat.mp4'"
      ]
     },
     "execution_count": 19,
     "metadata": {},
     "output_type": "execute_result"
    }
   ],
   "source": [
    "new_path+'/'+files[0]"
   ]
  }
 ],
 "metadata": {
  "kernelspec": {
   "display_name": "Python 3.9.13 ('dev')",
   "language": "python",
   "name": "python3"
  },
  "language_info": {
   "codemirror_mode": {
    "name": "ipython",
    "version": 3
   },
   "file_extension": ".py",
   "mimetype": "text/x-python",
   "name": "python",
   "nbconvert_exporter": "python",
   "pygments_lexer": "ipython3",
   "version": "3.9.13"
  },
  "orig_nbformat": 4,
  "vscode": {
   "interpreter": {
    "hash": "6ec50e2dddca2376d90d7f852e4579e00459be64bf68dd155a4947fa3ea19e2b"
   }
  }
 },
 "nbformat": 4,
 "nbformat_minor": 2
}
